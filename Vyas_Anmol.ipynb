{
 "cells": [
  {
   "cell_type": "markdown",
   "metadata": {},
   "source": [
    "\n",
    "\n",
    "#### Dataset\n",
    "The data set contains various information about a Telecommunication company customers like age, region etc.The list of information is as follow. \n",
    "\n",
    "|Column Name\t|Description and Specifics|\n",
    "|:----|:--|\n",
    "|Region\t|Region code to the area where customers belong.|\n",
    "|Tenure\t|Their span of choosing the company.|\n",
    "|Age\t|Age of the customers.|\n",
    "|Income\t|Their average Salaries|\n",
    "|Marital\t|Their Martial Status|\n",
    "|Address\t|Address Zone|\n",
    "|Ed\t|Education Group|\n",
    "|Employ\t|Employment Years|\n",
    "|Retire\t|Retirement Status|\n",
    "|Gender\t|Their Gender|\n",
    "|Reside\t|Area Code where they live|\n",
    "|Custcat\t|Customer Category (Target Variable)|\n"
   ]
  },
  {
   "cell_type": "markdown",
   "metadata": {},
   "source": [
    "# Preprocessing ``train.csv`` "
   ]
  },
  {
   "cell_type": "code",
   "execution_count": 1,
   "metadata": {},
   "outputs": [
    {
     "name": "stderr",
     "output_type": "stream",
     "text": [
      "Using TensorFlow backend.\n",
      "C:\\Users\\anmol\\anaconda3\\lib\\site-packages\\tensorflow\\python\\framework\\dtypes.py:516: FutureWarning: Passing (type, 1) or '1type' as a synonym of type is deprecated; in a future version of numpy, it will be understood as (type, (1,)) / '(1,)type'.\n",
      "  _np_qint8 = np.dtype([(\"qint8\", np.int8, 1)])\n",
      "C:\\Users\\anmol\\anaconda3\\lib\\site-packages\\tensorflow\\python\\framework\\dtypes.py:517: FutureWarning: Passing (type, 1) or '1type' as a synonym of type is deprecated; in a future version of numpy, it will be understood as (type, (1,)) / '(1,)type'.\n",
      "  _np_quint8 = np.dtype([(\"quint8\", np.uint8, 1)])\n",
      "C:\\Users\\anmol\\anaconda3\\lib\\site-packages\\tensorflow\\python\\framework\\dtypes.py:518: FutureWarning: Passing (type, 1) or '1type' as a synonym of type is deprecated; in a future version of numpy, it will be understood as (type, (1,)) / '(1,)type'.\n",
      "  _np_qint16 = np.dtype([(\"qint16\", np.int16, 1)])\n",
      "C:\\Users\\anmol\\anaconda3\\lib\\site-packages\\tensorflow\\python\\framework\\dtypes.py:519: FutureWarning: Passing (type, 1) or '1type' as a synonym of type is deprecated; in a future version of numpy, it will be understood as (type, (1,)) / '(1,)type'.\n",
      "  _np_quint16 = np.dtype([(\"quint16\", np.uint16, 1)])\n",
      "C:\\Users\\anmol\\anaconda3\\lib\\site-packages\\tensorflow\\python\\framework\\dtypes.py:520: FutureWarning: Passing (type, 1) or '1type' as a synonym of type is deprecated; in a future version of numpy, it will be understood as (type, (1,)) / '(1,)type'.\n",
      "  _np_qint32 = np.dtype([(\"qint32\", np.int32, 1)])\n",
      "C:\\Users\\anmol\\anaconda3\\lib\\site-packages\\tensorflow\\python\\framework\\dtypes.py:525: FutureWarning: Passing (type, 1) or '1type' as a synonym of type is deprecated; in a future version of numpy, it will be understood as (type, (1,)) / '(1,)type'.\n",
      "  np_resource = np.dtype([(\"resource\", np.ubyte, 1)])\n",
      "C:\\Users\\anmol\\anaconda3\\lib\\site-packages\\tensorboard\\compat\\tensorflow_stub\\dtypes.py:541: FutureWarning: Passing (type, 1) or '1type' as a synonym of type is deprecated; in a future version of numpy, it will be understood as (type, (1,)) / '(1,)type'.\n",
      "  _np_qint8 = np.dtype([(\"qint8\", np.int8, 1)])\n",
      "C:\\Users\\anmol\\anaconda3\\lib\\site-packages\\tensorboard\\compat\\tensorflow_stub\\dtypes.py:542: FutureWarning: Passing (type, 1) or '1type' as a synonym of type is deprecated; in a future version of numpy, it will be understood as (type, (1,)) / '(1,)type'.\n",
      "  _np_quint8 = np.dtype([(\"quint8\", np.uint8, 1)])\n",
      "C:\\Users\\anmol\\anaconda3\\lib\\site-packages\\tensorboard\\compat\\tensorflow_stub\\dtypes.py:543: FutureWarning: Passing (type, 1) or '1type' as a synonym of type is deprecated; in a future version of numpy, it will be understood as (type, (1,)) / '(1,)type'.\n",
      "  _np_qint16 = np.dtype([(\"qint16\", np.int16, 1)])\n",
      "C:\\Users\\anmol\\anaconda3\\lib\\site-packages\\tensorboard\\compat\\tensorflow_stub\\dtypes.py:544: FutureWarning: Passing (type, 1) or '1type' as a synonym of type is deprecated; in a future version of numpy, it will be understood as (type, (1,)) / '(1,)type'.\n",
      "  _np_quint16 = np.dtype([(\"quint16\", np.uint16, 1)])\n",
      "C:\\Users\\anmol\\anaconda3\\lib\\site-packages\\tensorboard\\compat\\tensorflow_stub\\dtypes.py:545: FutureWarning: Passing (type, 1) or '1type' as a synonym of type is deprecated; in a future version of numpy, it will be understood as (type, (1,)) / '(1,)type'.\n",
      "  _np_qint32 = np.dtype([(\"qint32\", np.int32, 1)])\n",
      "C:\\Users\\anmol\\anaconda3\\lib\\site-packages\\tensorboard\\compat\\tensorflow_stub\\dtypes.py:550: FutureWarning: Passing (type, 1) or '1type' as a synonym of type is deprecated; in a future version of numpy, it will be understood as (type, (1,)) / '(1,)type'.\n",
      "  np_resource = np.dtype([(\"resource\", np.ubyte, 1)])\n"
     ]
    }
   ],
   "source": [
    "import numpy as np\n",
    "import pandas as pd\n",
    "import seaborn as sns\n",
    "import matplotlib.pyplot as plt\n",
    "import warnings\n",
    "from sklearn.preprocessing import MinMaxScaler, scale\n",
    "from sklearn.model_selection import train_test_split, cross_val_score\n",
    "from sklearn.neighbors import KNeighborsClassifier\n",
    "from sklearn.model_selection import GridSearchCV\n",
    "from sklearn.metrics import make_scorer, precision_score, accuracy_score, classification_report\n",
    "from sklearn.linear_model import LogisticRegression\n",
    "from sklearn.svm import LinearSVC\n",
    "from sklearn import svm\n",
    "from sklearn.tree import DecisionTreeClassifier\n",
    "from sklearn.metrics import confusion_matrix\n",
    "from sklearn.ensemble import VotingClassifier, BaggingClassifier, AdaBoostClassifier, GradientBoostingClassifier\n",
    "from keras.models import Sequential\n",
    "from keras.layers import Dense\n",
    "from keras.utils import np_utils\n",
    "from sklearn.preprocessing import LabelEncoder\n",
    "from sklearn.decomposition import PCA\n",
    "from sklearn.manifold import LocallyLinearEmbedding\n",
    "warnings.filterwarnings('ignore')\n",
    "%matplotlib inline"
   ]
  },
  {
   "cell_type": "code",
   "execution_count": 2,
   "metadata": {
    "scrolled": false
   },
   "outputs": [
    {
     "data": {
      "text/html": [
       "<div>\n",
       "<style scoped>\n",
       "    .dataframe tbody tr th:only-of-type {\n",
       "        vertical-align: middle;\n",
       "    }\n",
       "\n",
       "    .dataframe tbody tr th {\n",
       "        vertical-align: top;\n",
       "    }\n",
       "\n",
       "    .dataframe thead th {\n",
       "        text-align: right;\n",
       "    }\n",
       "</style>\n",
       "<table border=\"1\" class=\"dataframe\">\n",
       "  <thead>\n",
       "    <tr style=\"text-align: right;\">\n",
       "      <th></th>\n",
       "      <th>region</th>\n",
       "      <th>tenure</th>\n",
       "      <th>age</th>\n",
       "      <th>income</th>\n",
       "      <th>marital</th>\n",
       "      <th>address zone</th>\n",
       "      <th>ed</th>\n",
       "      <th>employ</th>\n",
       "      <th>retire</th>\n",
       "      <th>gender</th>\n",
       "      <th>reside</th>\n",
       "      <th>custcat</th>\n",
       "    </tr>\n",
       "  </thead>\n",
       "  <tbody>\n",
       "    <tr>\n",
       "      <th>0</th>\n",
       "      <td>3.0</td>\n",
       "      <td>999</td>\n",
       "      <td>23</td>\n",
       "      <td>31.0</td>\n",
       "      <td>Married</td>\n",
       "      <td>Zone 1</td>\n",
       "      <td>3.0</td>\n",
       "      <td>1</td>\n",
       "      <td>No</td>\n",
       "      <td>Female</td>\n",
       "      <td>2.0</td>\n",
       "      <td>D</td>\n",
       "    </tr>\n",
       "    <tr>\n",
       "      <th>1</th>\n",
       "      <td>2.0</td>\n",
       "      <td>59</td>\n",
       "      <td>30</td>\n",
       "      <td>34.0</td>\n",
       "      <td>Single</td>\n",
       "      <td>Zone 2</td>\n",
       "      <td>NaN</td>\n",
       "      <td>2</td>\n",
       "      <td>No</td>\n",
       "      <td>Female</td>\n",
       "      <td>1.0</td>\n",
       "      <td>B</td>\n",
       "    </tr>\n",
       "    <tr>\n",
       "      <th>2</th>\n",
       "      <td>3.0</td>\n",
       "      <td>3</td>\n",
       "      <td>20</td>\n",
       "      <td>17.0</td>\n",
       "      <td>Married</td>\n",
       "      <td>Zone 1</td>\n",
       "      <td>2.0</td>\n",
       "      <td>0</td>\n",
       "      <td>No</td>\n",
       "      <td>Female</td>\n",
       "      <td>4.0</td>\n",
       "      <td>A</td>\n",
       "    </tr>\n",
       "    <tr>\n",
       "      <th>3</th>\n",
       "      <td>3.0</td>\n",
       "      <td>44</td>\n",
       "      <td>32</td>\n",
       "      <td>96.0</td>\n",
       "      <td>Married</td>\n",
       "      <td>Zone 1</td>\n",
       "      <td>4.0</td>\n",
       "      <td>5</td>\n",
       "      <td>No</td>\n",
       "      <td>Female</td>\n",
       "      <td>4.0</td>\n",
       "      <td>D</td>\n",
       "    </tr>\n",
       "    <tr>\n",
       "      <th>4</th>\n",
       "      <td>1.0</td>\n",
       "      <td>11</td>\n",
       "      <td>26</td>\n",
       "      <td>53.0</td>\n",
       "      <td>Single</td>\n",
       "      <td>Zone 2</td>\n",
       "      <td>3.0</td>\n",
       "      <td>3</td>\n",
       "      <td>No</td>\n",
       "      <td>Male</td>\n",
       "      <td>1.0</td>\n",
       "      <td>D</td>\n",
       "    </tr>\n",
       "  </tbody>\n",
       "</table>\n",
       "</div>"
      ],
      "text/plain": [
       "   region  tenure  age  income  marital address zone   ed  employ retire  \\\n",
       "0     3.0     999   23    31.0  Married       Zone 1  3.0       1     No   \n",
       "1     2.0      59   30    34.0   Single       Zone 2  NaN       2     No   \n",
       "2     3.0       3   20    17.0  Married       Zone 1  2.0       0     No   \n",
       "3     3.0      44   32    96.0  Married       Zone 1  4.0       5     No   \n",
       "4     1.0      11   26    53.0   Single       Zone 2  3.0       3     No   \n",
       "\n",
       "   gender  reside custcat  \n",
       "0  Female     2.0       D  \n",
       "1  Female     1.0       B  \n",
       "2  Female     4.0       A  \n",
       "3  Female     4.0       D  \n",
       "4    Male     1.0       D  "
      ]
     },
     "execution_count": 2,
     "metadata": {},
     "output_type": "execute_result"
    }
   ],
   "source": [
    "train=pd.read_csv(\"train(3).csv\")\n",
    "train.head()"
   ]
  },
  {
   "cell_type": "code",
   "execution_count": 3,
   "metadata": {
    "scrolled": true
   },
   "outputs": [
    {
     "data": {
      "text/plain": [
       "Index(['region', 'tenure', 'age', 'income', 'marital', 'address zone', 'ed',\n",
       "       'employ', 'retire', 'gender', 'reside', 'custcat'],\n",
       "      dtype='object')"
      ]
     },
     "execution_count": 3,
     "metadata": {},
     "output_type": "execute_result"
    }
   ],
   "source": [
    "train.columns"
   ]
  },
  {
   "cell_type": "code",
   "execution_count": 4,
   "metadata": {},
   "outputs": [
    {
     "data": {
      "text/plain": [
       "C    225\n",
       "A    217\n",
       "D    189\n",
       "B    169\n",
       "Name: custcat, dtype: int64"
      ]
     },
     "execution_count": 4,
     "metadata": {},
     "output_type": "execute_result"
    }
   ],
   "source": [
    "train['custcat'].value_counts()"
   ]
  },
  {
   "cell_type": "code",
   "execution_count": 5,
   "metadata": {},
   "outputs": [
    {
     "data": {
      "text/plain": [
       "<matplotlib.axes._subplots.AxesSubplot at 0x17b43ee1708>"
      ]
     },
     "execution_count": 5,
     "metadata": {},
     "output_type": "execute_result"
    },
    {
     "data": {
      "image/png": "[encoded data removed]",
      "text/plain": [
       "<Figure size 1800x1440 with 2 Axes>"
      ]
     },
     "metadata": {
      "needs_background": "light"
     },
     "output_type": "display_data"
    }
   ],
   "source": [
    "corr = train.corr()\n",
    "plt.subplots(figsize=(25,20))\n",
    "sns.heatmap(corr, vmax=0.9,annot =True, square=True)"
   ]
  },
  {
   "cell_type": "code",
   "execution_count": 6,
   "metadata": {},
   "outputs": [
    {
     "data": {
      "text/plain": [
       "{'region': 26,\n",
       " 'tenure': 0,\n",
       " 'age': 0,\n",
       " 'income': 16,\n",
       " 'marital': 12,\n",
       " 'address zone': 0,\n",
       " 'ed': 19,\n",
       " 'employ': 0,\n",
       " 'retire': 0,\n",
       " 'gender': 0,\n",
       " 'reside': 26,\n",
       " 'custcat': 0}"
      ]
     },
     "execution_count": 6,
     "metadata": {},
     "output_type": "execute_result"
    }
   ],
   "source": [
    "dict(train.isna().sum())"
   ]
  },
  {
   "cell_type": "code",
   "execution_count": 7,
   "metadata": {},
   "outputs": [
    {
     "name": "stdout",
     "output_type": "stream",
     "text": [
      "<class 'pandas.core.frame.DataFrame'>\n",
      "RangeIndex: 800 entries, 0 to 799\n",
      "Data columns (total 12 columns):\n",
      " #   Column        Non-Null Count  Dtype  \n",
      "---  ------        --------------  -----  \n",
      " 0   region        774 non-null    float64\n",
      " 1   tenure        800 non-null    int64  \n",
      " 2   age           800 non-null    int64  \n",
      " 3   income        784 non-null    float64\n",
      " 4   marital       788 non-null    object \n",
      " 5   address zone  800 non-null    object \n",
      " 6   ed            781 non-null    float64\n",
      " 7   employ        800 non-null    int64  \n",
      " 8   retire        800 non-null    object \n",
      " 9   gender        800 non-null    object \n",
      " 10  reside        774 non-null    float64\n",
      " 11  custcat       800 non-null    object \n",
      "dtypes: float64(4), int64(3), object(5)\n",
      "memory usage: 75.1+ KB\n"
     ]
    }
   ],
   "source": [
    "train.info()"
   ]
  },
  {
   "cell_type": "code",
   "execution_count": 8,
   "metadata": {},
   "outputs": [
    {
     "data": {
      "image/png": "[encoded data removed]",
      "text/plain": [
       "<Figure size 432x288 with 1 Axes>"
      ]
     },
     "metadata": {
      "needs_background": "light"
     },
     "output_type": "display_data"
    }
   ],
   "source": [
    "ax = sns.boxplot(x='region',y=\"reside\",hue='custcat',palette = \"pastel\", data=train)"
   ]
  },
  {
   "cell_type": "code",
   "execution_count": 9,
   "metadata": {},
   "outputs": [
    {
     "data": {
      "text/plain": [
       "(array([ 22., 119., 209., 204., 122.,  59.,  32.,  10.,   5.,   2.]),\n",
       " array([2.19722458, 2.71944018, 3.24165578, 3.76387138, 4.28608698,\n",
       "        4.80830258, 5.33051818, 5.85273378, 6.37494938, 6.89716498,\n",
       "        7.41938058]),\n",
       " <a list of 10 Patch objects>)"
      ]
     },
     "execution_count": 9,
     "metadata": {},
     "output_type": "execute_result"
    },
    {
     "data": {
      "image/png": "[encoded data removed]",
      "text/plain": [
       "<Figure size 432x288 with 1 Axes>"
      ]
     },
     "metadata": {
      "needs_background": "light"
     },
     "output_type": "display_data"
    }
   ],
   "source": [
    "#Income =deal with null values only\n",
    "plt.hist(np.log(train['income']))"
   ]
  },
  {
   "cell_type": "code",
   "execution_count": 10,
   "metadata": {
    "scrolled": true
   },
   "outputs": [
    {
     "data": {
      "text/plain": [
       "array(['Zone 1', 'Zone 2', 'Zone 7', 'Zone 11', 'Zone 33', 'Zone 4',\n",
       "       'Zone 23', 'Zone 12', 'Zone 19', 'Zone 15', 'Zone 0', 'Zone 26',\n",
       "       'Zone 39', 'Zone 5', 'Zone 22', 'Zone 20', 'Zone 8', 'Zone 3',\n",
       "       'Zone 9', 'Zone 10', 'Zone 18', 'Zone 40', 'Zone 24', 'Zone 14',\n",
       "       'Zone 17', 'Zone 6', 'Zone 31', 'Zone 13', 'Zone 34', 'Zone 27',\n",
       "       'Zone 30', 'Zone 28', 'Zone 38', 'Zone 21', 'Zone 36', 'Zone 25',\n",
       "       'Zone 29', 'Zone 41', 'Zone 55', 'Zone 43', 'Zone 16', 'Zone 42',\n",
       "       'Zone 45', 'Zone 32', 'Zone 37', 'Zone 44', 'Zone 35', 'Zone 46'],\n",
       "      dtype=object)"
      ]
     },
     "execution_count": 10,
     "metadata": {},
     "output_type": "execute_result"
    }
   ],
   "source": [
    "train['address zone'].unique()"
   ]
  },
  {
   "cell_type": "code",
   "execution_count": 11,
   "metadata": {},
   "outputs": [],
   "source": [
    "train = train.drop(columns=['address zone'])"
   ]
  },
  {
   "cell_type": "code",
   "execution_count": 12,
   "metadata": {},
   "outputs": [],
   "source": [
    "train['region'] = train['region'].fillna(train['region'].median())"
   ]
  },
  {
   "cell_type": "code",
   "execution_count": 13,
   "metadata": {},
   "outputs": [],
   "source": [
    "train['income'] = train['income'].fillna(train['income'].median())"
   ]
  },
  {
   "cell_type": "code",
   "execution_count": 14,
   "metadata": {},
   "outputs": [],
   "source": [
    "train['marital']=train['marital'].replace('Unkown','Married')\n",
    "train['marital']=train['marital'].map({'Married':1,'Single':0})\n",
    "train['marital']=train['marital'].fillna(train['marital'].mode()[0])"
   ]
  },
  {
   "cell_type": "code",
   "execution_count": 15,
   "metadata": {},
   "outputs": [],
   "source": [
    "train['ed'] = train['ed'].fillna(train['ed'].median())"
   ]
  },
  {
   "cell_type": "code",
   "execution_count": 16,
   "metadata": {},
   "outputs": [],
   "source": [
    "train['reside'] = train['reside'].fillna(train['reside'].median())"
   ]
  },
  {
   "cell_type": "code",
   "execution_count": 17,
   "metadata": {},
   "outputs": [],
   "source": [
    "train['tenure']=train['tenure'].replace(999,train['tenure'].median())"
   ]
  },
  {
   "cell_type": "code",
   "execution_count": 18,
   "metadata": {},
   "outputs": [
    {
     "data": {
      "text/plain": [
       "{'region': 0,\n",
       " 'tenure': 0,\n",
       " 'age': 0,\n",
       " 'income': 0,\n",
       " 'marital': 0,\n",
       " 'ed': 0,\n",
       " 'employ': 0,\n",
       " 'retire': 0,\n",
       " 'gender': 0,\n",
       " 'reside': 0,\n",
       " 'custcat': 0}"
      ]
     },
     "execution_count": 18,
     "metadata": {},
     "output_type": "execute_result"
    }
   ],
   "source": [
    "dict(train.isna().sum())"
   ]
  },
  {
   "cell_type": "code",
   "execution_count": 19,
   "metadata": {},
   "outputs": [
    {
     "name": "stdout",
     "output_type": "stream",
     "text": [
      "<class 'pandas.core.frame.DataFrame'>\n",
      "RangeIndex: 800 entries, 0 to 799\n",
      "Data columns (total 11 columns):\n",
      " #   Column   Non-Null Count  Dtype  \n",
      "---  ------   --------------  -----  \n",
      " 0   region   800 non-null    float64\n",
      " 1   tenure   800 non-null    int64  \n",
      " 2   age      800 non-null    int64  \n",
      " 3   income   800 non-null    float64\n",
      " 4   marital  800 non-null    float64\n",
      " 5   ed       800 non-null    float64\n",
      " 6   employ   800 non-null    int64  \n",
      " 7   retire   800 non-null    object \n",
      " 8   gender   800 non-null    object \n",
      " 9   reside   800 non-null    float64\n",
      " 10  custcat  800 non-null    object \n",
      "dtypes: float64(5), int64(3), object(3)\n",
      "memory usage: 68.9+ KB\n"
     ]
    }
   ],
   "source": [
    "train.info()"
   ]
  },
  {
   "cell_type": "code",
   "execution_count": 20,
   "metadata": {},
   "outputs": [
    {
     "data": {
      "text/html": [
       "<div>\n",
       "<style scoped>\n",
       "    .dataframe tbody tr th:only-of-type {\n",
       "        vertical-align: middle;\n",
       "    }\n",
       "\n",
       "    .dataframe tbody tr th {\n",
       "        vertical-align: top;\n",
       "    }\n",
       "\n",
       "    .dataframe thead th {\n",
       "        text-align: right;\n",
       "    }\n",
       "</style>\n",
       "<table border=\"1\" class=\"dataframe\">\n",
       "  <thead>\n",
       "    <tr style=\"text-align: right;\">\n",
       "      <th></th>\n",
       "      <th>region</th>\n",
       "      <th>tenure</th>\n",
       "      <th>age</th>\n",
       "      <th>income</th>\n",
       "      <th>marital</th>\n",
       "      <th>ed</th>\n",
       "      <th>employ</th>\n",
       "      <th>retire</th>\n",
       "      <th>gender</th>\n",
       "      <th>reside</th>\n",
       "      <th>custcat</th>\n",
       "    </tr>\n",
       "  </thead>\n",
       "  <tbody>\n",
       "    <tr>\n",
       "      <th>0</th>\n",
       "      <td>3.0</td>\n",
       "      <td>36</td>\n",
       "      <td>23</td>\n",
       "      <td>31.0</td>\n",
       "      <td>1.0</td>\n",
       "      <td>3.0</td>\n",
       "      <td>1</td>\n",
       "      <td>No</td>\n",
       "      <td>Female</td>\n",
       "      <td>2.0</td>\n",
       "      <td>D</td>\n",
       "    </tr>\n",
       "    <tr>\n",
       "      <th>1</th>\n",
       "      <td>2.0</td>\n",
       "      <td>59</td>\n",
       "      <td>30</td>\n",
       "      <td>34.0</td>\n",
       "      <td>0.0</td>\n",
       "      <td>3.0</td>\n",
       "      <td>2</td>\n",
       "      <td>No</td>\n",
       "      <td>Female</td>\n",
       "      <td>1.0</td>\n",
       "      <td>B</td>\n",
       "    </tr>\n",
       "    <tr>\n",
       "      <th>2</th>\n",
       "      <td>3.0</td>\n",
       "      <td>3</td>\n",
       "      <td>20</td>\n",
       "      <td>17.0</td>\n",
       "      <td>1.0</td>\n",
       "      <td>2.0</td>\n",
       "      <td>0</td>\n",
       "      <td>No</td>\n",
       "      <td>Female</td>\n",
       "      <td>4.0</td>\n",
       "      <td>A</td>\n",
       "    </tr>\n",
       "    <tr>\n",
       "      <th>3</th>\n",
       "      <td>3.0</td>\n",
       "      <td>44</td>\n",
       "      <td>32</td>\n",
       "      <td>96.0</td>\n",
       "      <td>1.0</td>\n",
       "      <td>4.0</td>\n",
       "      <td>5</td>\n",
       "      <td>No</td>\n",
       "      <td>Female</td>\n",
       "      <td>4.0</td>\n",
       "      <td>D</td>\n",
       "    </tr>\n",
       "    <tr>\n",
       "      <th>4</th>\n",
       "      <td>1.0</td>\n",
       "      <td>11</td>\n",
       "      <td>26</td>\n",
       "      <td>53.0</td>\n",
       "      <td>0.0</td>\n",
       "      <td>3.0</td>\n",
       "      <td>3</td>\n",
       "      <td>No</td>\n",
       "      <td>Male</td>\n",
       "      <td>1.0</td>\n",
       "      <td>D</td>\n",
       "    </tr>\n",
       "  </tbody>\n",
       "</table>\n",
       "</div>"
      ],
      "text/plain": [
       "   region  tenure  age  income  marital   ed  employ retire  gender  reside  \\\n",
       "0     3.0      36   23    31.0      1.0  3.0       1     No  Female     2.0   \n",
       "1     2.0      59   30    34.0      0.0  3.0       2     No  Female     1.0   \n",
       "2     3.0       3   20    17.0      1.0  2.0       0     No  Female     4.0   \n",
       "3     3.0      44   32    96.0      1.0  4.0       5     No  Female     4.0   \n",
       "4     1.0      11   26    53.0      0.0  3.0       3     No    Male     1.0   \n",
       "\n",
       "  custcat  \n",
       "0       D  \n",
       "1       B  \n",
       "2       A  \n",
       "3       D  \n",
       "4       D  "
      ]
     },
     "execution_count": 20,
     "metadata": {},
     "output_type": "execute_result"
    }
   ],
   "source": [
    "train.head()"
   ]
  },
  {
   "cell_type": "code",
   "execution_count": 21,
   "metadata": {},
   "outputs": [
    {
     "data": {
      "image/png": "[encoded data removed]",
      "text/plain": [
       "<Figure size 432x288 with 1 Axes>"
      ]
     },
     "metadata": {
      "needs_background": "light"
     },
     "output_type": "display_data"
    }
   ],
   "source": [
    "boxplot = train.boxplot(column=['tenure','income',], rot=45, fontsize=15)"
   ]
  },
  {
   "cell_type": "code",
   "execution_count": 22,
   "metadata": {},
   "outputs": [],
   "source": [
    "### ENCODING\n",
    "from sklearn.preprocessing import LabelEncoder\n",
    "cols = ('retire','custcat','gender')\n",
    "#label encoding\n",
    "for c in cols:\n",
    "    lbl = LabelEncoder() \n",
    "    lbl.fit(list(train[c].values)) \n",
    "    train[c] = lbl.transform(list(train[c].values))\n"
   ]
  },
  {
   "cell_type": "code",
   "execution_count": 23,
   "metadata": {},
   "outputs": [],
   "source": [
    "reside=pd.get_dummies(train['reside'])\n",
    "reside.columns=['reside1','reside2','reside3','reside4','reside5','reside6','reside7','reside8']\n",
    "train=pd.concat([train,reside],axis=1)"
   ]
  },
  {
   "cell_type": "code",
   "execution_count": 24,
   "metadata": {},
   "outputs": [],
   "source": [
    "region=pd.get_dummies(train['region'])\n",
    "region.columns=['region1','region2','region3']\n",
    "train=pd.concat([train,region],axis=1)"
   ]
  },
  {
   "cell_type": "code",
   "execution_count": 25,
   "metadata": {},
   "outputs": [],
   "source": [
    "train=train.drop(['reside','region','reside1','region1','reside8'],axis=1)"
   ]
  },
  {
   "cell_type": "code",
   "execution_count": 26,
   "metadata": {},
   "outputs": [
    {
     "data": {
      "text/html": [
       "<div>\n",
       "<style scoped>\n",
       "    .dataframe tbody tr th:only-of-type {\n",
       "        vertical-align: middle;\n",
       "    }\n",
       "\n",
       "    .dataframe tbody tr th {\n",
       "        vertical-align: top;\n",
       "    }\n",
       "\n",
       "    .dataframe thead th {\n",
       "        text-align: right;\n",
       "    }\n",
       "</style>\n",
       "<table border=\"1\" class=\"dataframe\">\n",
       "  <thead>\n",
       "    <tr style=\"text-align: right;\">\n",
       "      <th></th>\n",
       "      <th>tenure</th>\n",
       "      <th>age</th>\n",
       "      <th>income</th>\n",
       "      <th>marital</th>\n",
       "      <th>ed</th>\n",
       "      <th>employ</th>\n",
       "      <th>retire</th>\n",
       "      <th>gender</th>\n",
       "      <th>custcat</th>\n",
       "      <th>reside2</th>\n",
       "      <th>reside3</th>\n",
       "      <th>reside4</th>\n",
       "      <th>reside5</th>\n",
       "      <th>reside6</th>\n",
       "      <th>reside7</th>\n",
       "      <th>region2</th>\n",
       "      <th>region3</th>\n",
       "    </tr>\n",
       "  </thead>\n",
       "  <tbody>\n",
       "    <tr>\n",
       "      <th>0</th>\n",
       "      <td>36</td>\n",
       "      <td>23</td>\n",
       "      <td>31.0</td>\n",
       "      <td>1.0</td>\n",
       "      <td>3.0</td>\n",
       "      <td>1</td>\n",
       "      <td>0</td>\n",
       "      <td>0</td>\n",
       "      <td>3</td>\n",
       "      <td>1</td>\n",
       "      <td>0</td>\n",
       "      <td>0</td>\n",
       "      <td>0</td>\n",
       "      <td>0</td>\n",
       "      <td>0</td>\n",
       "      <td>0</td>\n",
       "      <td>1</td>\n",
       "    </tr>\n",
       "    <tr>\n",
       "      <th>1</th>\n",
       "      <td>59</td>\n",
       "      <td>30</td>\n",
       "      <td>34.0</td>\n",
       "      <td>0.0</td>\n",
       "      <td>3.0</td>\n",
       "      <td>2</td>\n",
       "      <td>0</td>\n",
       "      <td>0</td>\n",
       "      <td>1</td>\n",
       "      <td>0</td>\n",
       "      <td>0</td>\n",
       "      <td>0</td>\n",
       "      <td>0</td>\n",
       "      <td>0</td>\n",
       "      <td>0</td>\n",
       "      <td>1</td>\n",
       "      <td>0</td>\n",
       "    </tr>\n",
       "    <tr>\n",
       "      <th>2</th>\n",
       "      <td>3</td>\n",
       "      <td>20</td>\n",
       "      <td>17.0</td>\n",
       "      <td>1.0</td>\n",
       "      <td>2.0</td>\n",
       "      <td>0</td>\n",
       "      <td>0</td>\n",
       "      <td>0</td>\n",
       "      <td>0</td>\n",
       "      <td>0</td>\n",
       "      <td>0</td>\n",
       "      <td>1</td>\n",
       "      <td>0</td>\n",
       "      <td>0</td>\n",
       "      <td>0</td>\n",
       "      <td>0</td>\n",
       "      <td>1</td>\n",
       "    </tr>\n",
       "    <tr>\n",
       "      <th>3</th>\n",
       "      <td>44</td>\n",
       "      <td>32</td>\n",
       "      <td>96.0</td>\n",
       "      <td>1.0</td>\n",
       "      <td>4.0</td>\n",
       "      <td>5</td>\n",
       "      <td>0</td>\n",
       "      <td>0</td>\n",
       "      <td>3</td>\n",
       "      <td>0</td>\n",
       "      <td>0</td>\n",
       "      <td>1</td>\n",
       "      <td>0</td>\n",
       "      <td>0</td>\n",
       "      <td>0</td>\n",
       "      <td>0</td>\n",
       "      <td>1</td>\n",
       "    </tr>\n",
       "    <tr>\n",
       "      <th>4</th>\n",
       "      <td>11</td>\n",
       "      <td>26</td>\n",
       "      <td>53.0</td>\n",
       "      <td>0.0</td>\n",
       "      <td>3.0</td>\n",
       "      <td>3</td>\n",
       "      <td>0</td>\n",
       "      <td>1</td>\n",
       "      <td>3</td>\n",
       "      <td>0</td>\n",
       "      <td>0</td>\n",
       "      <td>0</td>\n",
       "      <td>0</td>\n",
       "      <td>0</td>\n",
       "      <td>0</td>\n",
       "      <td>0</td>\n",
       "      <td>0</td>\n",
       "    </tr>\n",
       "    <tr>\n",
       "      <th>...</th>\n",
       "      <td>...</td>\n",
       "      <td>...</td>\n",
       "      <td>...</td>\n",
       "      <td>...</td>\n",
       "      <td>...</td>\n",
       "      <td>...</td>\n",
       "      <td>...</td>\n",
       "      <td>...</td>\n",
       "      <td>...</td>\n",
       "      <td>...</td>\n",
       "      <td>...</td>\n",
       "      <td>...</td>\n",
       "      <td>...</td>\n",
       "      <td>...</td>\n",
       "      <td>...</td>\n",
       "      <td>...</td>\n",
       "      <td>...</td>\n",
       "    </tr>\n",
       "    <tr>\n",
       "      <th>795</th>\n",
       "      <td>24</td>\n",
       "      <td>39</td>\n",
       "      <td>122.0</td>\n",
       "      <td>0.0</td>\n",
       "      <td>4.0</td>\n",
       "      <td>12</td>\n",
       "      <td>0</td>\n",
       "      <td>1</td>\n",
       "      <td>3</td>\n",
       "      <td>0</td>\n",
       "      <td>1</td>\n",
       "      <td>0</td>\n",
       "      <td>0</td>\n",
       "      <td>0</td>\n",
       "      <td>0</td>\n",
       "      <td>0</td>\n",
       "      <td>0</td>\n",
       "    </tr>\n",
       "    <tr>\n",
       "      <th>796</th>\n",
       "      <td>56</td>\n",
       "      <td>58</td>\n",
       "      <td>92.0</td>\n",
       "      <td>1.0</td>\n",
       "      <td>1.0</td>\n",
       "      <td>25</td>\n",
       "      <td>0</td>\n",
       "      <td>1</td>\n",
       "      <td>0</td>\n",
       "      <td>0</td>\n",
       "      <td>1</td>\n",
       "      <td>0</td>\n",
       "      <td>0</td>\n",
       "      <td>0</td>\n",
       "      <td>0</td>\n",
       "      <td>1</td>\n",
       "      <td>0</td>\n",
       "    </tr>\n",
       "    <tr>\n",
       "      <th>797</th>\n",
       "      <td>19</td>\n",
       "      <td>41</td>\n",
       "      <td>53.0</td>\n",
       "      <td>0.0</td>\n",
       "      <td>4.0</td>\n",
       "      <td>6</td>\n",
       "      <td>0</td>\n",
       "      <td>1</td>\n",
       "      <td>0</td>\n",
       "      <td>0</td>\n",
       "      <td>0</td>\n",
       "      <td>0</td>\n",
       "      <td>0</td>\n",
       "      <td>0</td>\n",
       "      <td>0</td>\n",
       "      <td>0</td>\n",
       "      <td>0</td>\n",
       "    </tr>\n",
       "    <tr>\n",
       "      <th>798</th>\n",
       "      <td>49</td>\n",
       "      <td>51</td>\n",
       "      <td>80.0</td>\n",
       "      <td>1.0</td>\n",
       "      <td>5.0</td>\n",
       "      <td>3</td>\n",
       "      <td>0</td>\n",
       "      <td>1</td>\n",
       "      <td>3</td>\n",
       "      <td>1</td>\n",
       "      <td>0</td>\n",
       "      <td>0</td>\n",
       "      <td>0</td>\n",
       "      <td>0</td>\n",
       "      <td>0</td>\n",
       "      <td>1</td>\n",
       "      <td>0</td>\n",
       "    </tr>\n",
       "    <tr>\n",
       "      <th>799</th>\n",
       "      <td>36</td>\n",
       "      <td>37</td>\n",
       "      <td>56.0</td>\n",
       "      <td>0.0</td>\n",
       "      <td>2.0</td>\n",
       "      <td>15</td>\n",
       "      <td>0</td>\n",
       "      <td>1</td>\n",
       "      <td>1</td>\n",
       "      <td>0</td>\n",
       "      <td>0</td>\n",
       "      <td>0</td>\n",
       "      <td>0</td>\n",
       "      <td>0</td>\n",
       "      <td>0</td>\n",
       "      <td>0</td>\n",
       "      <td>0</td>\n",
       "    </tr>\n",
       "  </tbody>\n",
       "</table>\n",
       "<p>800 rows × 17 columns</p>\n",
       "</div>"
      ],
      "text/plain": [
       "     tenure  age  income  marital   ed  employ  retire  gender  custcat  \\\n",
       "0        36   23    31.0      1.0  3.0       1       0       0        3   \n",
       "1        59   30    34.0      0.0  3.0       2       0       0        1   \n",
       "2         3   20    17.0      1.0  2.0       0       0       0        0   \n",
       "3        44   32    96.0      1.0  4.0       5       0       0        3   \n",
       "4        11   26    53.0      0.0  3.0       3       0       1        3   \n",
       "..      ...  ...     ...      ...  ...     ...     ...     ...      ...   \n",
       "795      24   39   122.0      0.0  4.0      12       0       1        3   \n",
       "796      56   58    92.0      1.0  1.0      25       0       1        0   \n",
       "797      19   41    53.0      0.0  4.0       6       0       1        0   \n",
       "798      49   51    80.0      1.0  5.0       3       0       1        3   \n",
       "799      36   37    56.0      0.0  2.0      15       0       1        1   \n",
       "\n",
       "     reside2  reside3  reside4  reside5  reside6  reside7  region2  region3  \n",
       "0          1        0        0        0        0        0        0        1  \n",
       "1          0        0        0        0        0        0        1        0  \n",
       "2          0        0        1        0        0        0        0        1  \n",
       "3          0        0        1        0        0        0        0        1  \n",
       "4          0        0        0        0        0        0        0        0  \n",
       "..       ...      ...      ...      ...      ...      ...      ...      ...  \n",
       "795        0        1        0        0        0        0        0        0  \n",
       "796        0        1        0        0        0        0        1        0  \n",
       "797        0        0        0        0        0        0        0        0  \n",
       "798        1        0        0        0        0        0        1        0  \n",
       "799        0        0        0        0        0        0        0        0  \n",
       "\n",
       "[800 rows x 17 columns]"
      ]
     },
     "execution_count": 26,
     "metadata": {},
     "output_type": "execute_result"
    }
   ],
   "source": [
    "train"
   ]
  },
  {
   "cell_type": "code",
   "execution_count": 27,
   "metadata": {},
   "outputs": [],
   "source": [
    "X = train.drop(['custcat'],axis=1)\n",
    "y=train['custcat']"
   ]
  },
  {
   "cell_type": "code",
   "execution_count": 28,
   "metadata": {},
   "outputs": [
    {
     "data": {
      "text/html": [
       "<div>\n",
       "<style scoped>\n",
       "    .dataframe tbody tr th:only-of-type {\n",
       "        vertical-align: middle;\n",
       "    }\n",
       "\n",
       "    .dataframe tbody tr th {\n",
       "        vertical-align: top;\n",
       "    }\n",
       "\n",
       "    .dataframe thead th {\n",
       "        text-align: right;\n",
       "    }\n",
       "</style>\n",
       "<table border=\"1\" class=\"dataframe\">\n",
       "  <thead>\n",
       "    <tr style=\"text-align: right;\">\n",
       "      <th></th>\n",
       "      <th>tenure</th>\n",
       "      <th>age</th>\n",
       "      <th>income</th>\n",
       "      <th>marital</th>\n",
       "      <th>ed</th>\n",
       "      <th>employ</th>\n",
       "      <th>retire</th>\n",
       "      <th>gender</th>\n",
       "      <th>reside2</th>\n",
       "      <th>reside3</th>\n",
       "      <th>reside4</th>\n",
       "      <th>reside5</th>\n",
       "      <th>reside6</th>\n",
       "      <th>reside7</th>\n",
       "      <th>region2</th>\n",
       "      <th>region3</th>\n",
       "    </tr>\n",
       "  </thead>\n",
       "  <tbody>\n",
       "    <tr>\n",
       "      <th>0</th>\n",
       "      <td>36</td>\n",
       "      <td>23</td>\n",
       "      <td>31.0</td>\n",
       "      <td>1.0</td>\n",
       "      <td>3.0</td>\n",
       "      <td>1</td>\n",
       "      <td>0</td>\n",
       "      <td>0</td>\n",
       "      <td>1</td>\n",
       "      <td>0</td>\n",
       "      <td>0</td>\n",
       "      <td>0</td>\n",
       "      <td>0</td>\n",
       "      <td>0</td>\n",
       "      <td>0</td>\n",
       "      <td>1</td>\n",
       "    </tr>\n",
       "    <tr>\n",
       "      <th>1</th>\n",
       "      <td>59</td>\n",
       "      <td>30</td>\n",
       "      <td>34.0</td>\n",
       "      <td>0.0</td>\n",
       "      <td>3.0</td>\n",
       "      <td>2</td>\n",
       "      <td>0</td>\n",
       "      <td>0</td>\n",
       "      <td>0</td>\n",
       "      <td>0</td>\n",
       "      <td>0</td>\n",
       "      <td>0</td>\n",
       "      <td>0</td>\n",
       "      <td>0</td>\n",
       "      <td>1</td>\n",
       "      <td>0</td>\n",
       "    </tr>\n",
       "    <tr>\n",
       "      <th>2</th>\n",
       "      <td>3</td>\n",
       "      <td>20</td>\n",
       "      <td>17.0</td>\n",
       "      <td>1.0</td>\n",
       "      <td>2.0</td>\n",
       "      <td>0</td>\n",
       "      <td>0</td>\n",
       "      <td>0</td>\n",
       "      <td>0</td>\n",
       "      <td>0</td>\n",
       "      <td>1</td>\n",
       "      <td>0</td>\n",
       "      <td>0</td>\n",
       "      <td>0</td>\n",
       "      <td>0</td>\n",
       "      <td>1</td>\n",
       "    </tr>\n",
       "    <tr>\n",
       "      <th>3</th>\n",
       "      <td>44</td>\n",
       "      <td>32</td>\n",
       "      <td>96.0</td>\n",
       "      <td>1.0</td>\n",
       "      <td>4.0</td>\n",
       "      <td>5</td>\n",
       "      <td>0</td>\n",
       "      <td>0</td>\n",
       "      <td>0</td>\n",
       "      <td>0</td>\n",
       "      <td>1</td>\n",
       "      <td>0</td>\n",
       "      <td>0</td>\n",
       "      <td>0</td>\n",
       "      <td>0</td>\n",
       "      <td>1</td>\n",
       "    </tr>\n",
       "    <tr>\n",
       "      <th>4</th>\n",
       "      <td>11</td>\n",
       "      <td>26</td>\n",
       "      <td>53.0</td>\n",
       "      <td>0.0</td>\n",
       "      <td>3.0</td>\n",
       "      <td>3</td>\n",
       "      <td>0</td>\n",
       "      <td>1</td>\n",
       "      <td>0</td>\n",
       "      <td>0</td>\n",
       "      <td>0</td>\n",
       "      <td>0</td>\n",
       "      <td>0</td>\n",
       "      <td>0</td>\n",
       "      <td>0</td>\n",
       "      <td>0</td>\n",
       "    </tr>\n",
       "    <tr>\n",
       "      <th>...</th>\n",
       "      <td>...</td>\n",
       "      <td>...</td>\n",
       "      <td>...</td>\n",
       "      <td>...</td>\n",
       "      <td>...</td>\n",
       "      <td>...</td>\n",
       "      <td>...</td>\n",
       "      <td>...</td>\n",
       "      <td>...</td>\n",
       "      <td>...</td>\n",
       "      <td>...</td>\n",
       "      <td>...</td>\n",
       "      <td>...</td>\n",
       "      <td>...</td>\n",
       "      <td>...</td>\n",
       "      <td>...</td>\n",
       "    </tr>\n",
       "    <tr>\n",
       "      <th>795</th>\n",
       "      <td>24</td>\n",
       "      <td>39</td>\n",
       "      <td>122.0</td>\n",
       "      <td>0.0</td>\n",
       "      <td>4.0</td>\n",
       "      <td>12</td>\n",
       "      <td>0</td>\n",
       "      <td>1</td>\n",
       "      <td>0</td>\n",
       "      <td>1</td>\n",
       "      <td>0</td>\n",
       "      <td>0</td>\n",
       "      <td>0</td>\n",
       "      <td>0</td>\n",
       "      <td>0</td>\n",
       "      <td>0</td>\n",
       "    </tr>\n",
       "    <tr>\n",
       "      <th>796</th>\n",
       "      <td>56</td>\n",
       "      <td>58</td>\n",
       "      <td>92.0</td>\n",
       "      <td>1.0</td>\n",
       "      <td>1.0</td>\n",
       "      <td>25</td>\n",
       "      <td>0</td>\n",
       "      <td>1</td>\n",
       "      <td>0</td>\n",
       "      <td>1</td>\n",
       "      <td>0</td>\n",
       "      <td>0</td>\n",
       "      <td>0</td>\n",
       "      <td>0</td>\n",
       "      <td>1</td>\n",
       "      <td>0</td>\n",
       "    </tr>\n",
       "    <tr>\n",
       "      <th>797</th>\n",
       "      <td>19</td>\n",
       "      <td>41</td>\n",
       "      <td>53.0</td>\n",
       "      <td>0.0</td>\n",
       "      <td>4.0</td>\n",
       "      <td>6</td>\n",
       "      <td>0</td>\n",
       "      <td>1</td>\n",
       "      <td>0</td>\n",
       "      <td>0</td>\n",
       "      <td>0</td>\n",
       "      <td>0</td>\n",
       "      <td>0</td>\n",
       "      <td>0</td>\n",
       "      <td>0</td>\n",
       "      <td>0</td>\n",
       "    </tr>\n",
       "    <tr>\n",
       "      <th>798</th>\n",
       "      <td>49</td>\n",
       "      <td>51</td>\n",
       "      <td>80.0</td>\n",
       "      <td>1.0</td>\n",
       "      <td>5.0</td>\n",
       "      <td>3</td>\n",
       "      <td>0</td>\n",
       "      <td>1</td>\n",
       "      <td>1</td>\n",
       "      <td>0</td>\n",
       "      <td>0</td>\n",
       "      <td>0</td>\n",
       "      <td>0</td>\n",
       "      <td>0</td>\n",
       "      <td>1</td>\n",
       "      <td>0</td>\n",
       "    </tr>\n",
       "    <tr>\n",
       "      <th>799</th>\n",
       "      <td>36</td>\n",
       "      <td>37</td>\n",
       "      <td>56.0</td>\n",
       "      <td>0.0</td>\n",
       "      <td>2.0</td>\n",
       "      <td>15</td>\n",
       "      <td>0</td>\n",
       "      <td>1</td>\n",
       "      <td>0</td>\n",
       "      <td>0</td>\n",
       "      <td>0</td>\n",
       "      <td>0</td>\n",
       "      <td>0</td>\n",
       "      <td>0</td>\n",
       "      <td>0</td>\n",
       "      <td>0</td>\n",
       "    </tr>\n",
       "  </tbody>\n",
       "</table>\n",
       "<p>800 rows × 16 columns</p>\n",
       "</div>"
      ],
      "text/plain": [
       "     tenure  age  income  marital   ed  employ  retire  gender  reside2  \\\n",
       "0        36   23    31.0      1.0  3.0       1       0       0        1   \n",
       "1        59   30    34.0      0.0  3.0       2       0       0        0   \n",
       "2         3   20    17.0      1.0  2.0       0       0       0        0   \n",
       "3        44   32    96.0      1.0  4.0       5       0       0        0   \n",
       "4        11   26    53.0      0.0  3.0       3       0       1        0   \n",
       "..      ...  ...     ...      ...  ...     ...     ...     ...      ...   \n",
       "795      24   39   122.0      0.0  4.0      12       0       1        0   \n",
       "796      56   58    92.0      1.0  1.0      25       0       1        0   \n",
       "797      19   41    53.0      0.0  4.0       6       0       1        0   \n",
       "798      49   51    80.0      1.0  5.0       3       0       1        1   \n",
       "799      36   37    56.0      0.0  2.0      15       0       1        0   \n",
       "\n",
       "     reside3  reside4  reside5  reside6  reside7  region2  region3  \n",
       "0          0        0        0        0        0        0        1  \n",
       "1          0        0        0        0        0        1        0  \n",
       "2          0        1        0        0        0        0        1  \n",
       "3          0        1        0        0        0        0        1  \n",
       "4          0        0        0        0        0        0        0  \n",
       "..       ...      ...      ...      ...      ...      ...      ...  \n",
       "795        1        0        0        0        0        0        0  \n",
       "796        1        0        0        0        0        1        0  \n",
       "797        0        0        0        0        0        0        0  \n",
       "798        0        0        0        0        0        1        0  \n",
       "799        0        0        0        0        0        0        0  \n",
       "\n",
       "[800 rows x 16 columns]"
      ]
     },
     "execution_count": 28,
     "metadata": {},
     "output_type": "execute_result"
    }
   ],
   "source": [
    "X"
   ]
  },
  {
   "cell_type": "code",
   "execution_count": 29,
   "metadata": {},
   "outputs": [
    {
     "data": {
      "text/plain": [
       "0      3\n",
       "1      1\n",
       "2      0\n",
       "3      3\n",
       "4      3\n",
       "      ..\n",
       "795    3\n",
       "796    0\n",
       "797    0\n",
       "798    3\n",
       "799    1\n",
       "Name: custcat, Length: 800, dtype: int64"
      ]
     },
     "execution_count": 29,
     "metadata": {},
     "output_type": "execute_result"
    }
   ],
   "source": [
    "y"
   ]
  },
  {
   "cell_type": "markdown",
   "metadata": {},
   "source": [
    "# Preprocessing ``test.csv``"
   ]
  },
  {
   "cell_type": "code",
   "execution_count": 30,
   "metadata": {},
   "outputs": [
    {
     "data": {
      "text/html": [
       "<div>\n",
       "<style scoped>\n",
       "    .dataframe tbody tr th:only-of-type {\n",
       "        vertical-align: middle;\n",
       "    }\n",
       "\n",
       "    .dataframe tbody tr th {\n",
       "        vertical-align: top;\n",
       "    }\n",
       "\n",
       "    .dataframe thead th {\n",
       "        text-align: right;\n",
       "    }\n",
       "</style>\n",
       "<table border=\"1\" class=\"dataframe\">\n",
       "  <thead>\n",
       "    <tr style=\"text-align: right;\">\n",
       "      <th></th>\n",
       "      <th>Unnamed: 0</th>\n",
       "      <th>region</th>\n",
       "      <th>tenure</th>\n",
       "      <th>age</th>\n",
       "      <th>income</th>\n",
       "      <th>marital</th>\n",
       "      <th>address zone</th>\n",
       "      <th>ed</th>\n",
       "      <th>employ</th>\n",
       "      <th>retire</th>\n",
       "      <th>gender</th>\n",
       "      <th>reside</th>\n",
       "    </tr>\n",
       "  </thead>\n",
       "  <tbody>\n",
       "    <tr>\n",
       "      <th>0</th>\n",
       "      <td>985</td>\n",
       "      <td>3.0</td>\n",
       "      <td>24</td>\n",
       "      <td>30</td>\n",
       "      <td>25.0</td>\n",
       "      <td>Single</td>\n",
       "      <td>Zone 0</td>\n",
       "      <td>4.0</td>\n",
       "      <td>5</td>\n",
       "      <td>0</td>\n",
       "      <td>Male</td>\n",
       "      <td>2.0</td>\n",
       "    </tr>\n",
       "    <tr>\n",
       "      <th>1</th>\n",
       "      <td>426</td>\n",
       "      <td>1.0</td>\n",
       "      <td>999</td>\n",
       "      <td>57</td>\n",
       "      <td>94.0</td>\n",
       "      <td>Married</td>\n",
       "      <td>Zone 21</td>\n",
       "      <td>1.0</td>\n",
       "      <td>22</td>\n",
       "      <td>0</td>\n",
       "      <td>Male</td>\n",
       "      <td>2.0</td>\n",
       "    </tr>\n",
       "    <tr>\n",
       "      <th>2</th>\n",
       "      <td>44</td>\n",
       "      <td>1.0</td>\n",
       "      <td>64</td>\n",
       "      <td>43</td>\n",
       "      <td>76.0</td>\n",
       "      <td>Married</td>\n",
       "      <td>Zone 20</td>\n",
       "      <td>4.0</td>\n",
       "      <td>20</td>\n",
       "      <td>0</td>\n",
       "      <td>Female</td>\n",
       "      <td>4.0</td>\n",
       "    </tr>\n",
       "    <tr>\n",
       "      <th>3</th>\n",
       "      <td>616</td>\n",
       "      <td>3.0</td>\n",
       "      <td>5</td>\n",
       "      <td>47</td>\n",
       "      <td>46.0</td>\n",
       "      <td>Single</td>\n",
       "      <td>Zone 7</td>\n",
       "      <td>1.0</td>\n",
       "      <td>6</td>\n",
       "      <td>0</td>\n",
       "      <td>Female</td>\n",
       "      <td>1.0</td>\n",
       "    </tr>\n",
       "    <tr>\n",
       "      <th>4</th>\n",
       "      <td>673</td>\n",
       "      <td>3.0</td>\n",
       "      <td>9</td>\n",
       "      <td>25</td>\n",
       "      <td>27.0</td>\n",
       "      <td>Single</td>\n",
       "      <td>Zone 3</td>\n",
       "      <td>1.0</td>\n",
       "      <td>4</td>\n",
       "      <td>0</td>\n",
       "      <td>Female</td>\n",
       "      <td>1.0</td>\n",
       "    </tr>\n",
       "  </tbody>\n",
       "</table>\n",
       "</div>"
      ],
      "text/plain": [
       "   Unnamed: 0  region  tenure  age  income  marital address zone   ed employ  \\\n",
       "0         985     3.0      24   30    25.0   Single       Zone 0  4.0      5   \n",
       "1         426     1.0     999   57    94.0  Married      Zone 21  1.0     22   \n",
       "2          44     1.0      64   43    76.0  Married      Zone 20  4.0     20   \n",
       "3         616     3.0       5   47    46.0   Single       Zone 7  1.0      6   \n",
       "4         673     3.0       9   25    27.0   Single       Zone 3  1.0      4   \n",
       "\n",
       "   retire  gender  reside  \n",
       "0       0    Male     2.0  \n",
       "1       0    Male     2.0  \n",
       "2       0  Female     4.0  \n",
       "3       0  Female     1.0  \n",
       "4       0  Female     1.0  "
      ]
     },
     "execution_count": 30,
     "metadata": {},
     "output_type": "execute_result"
    }
   ],
   "source": [
    "test=pd.read_csv(\"test(3).csv\")\n",
    "test.head()"
   ]
  },
  {
   "cell_type": "code",
   "execution_count": 31,
   "metadata": {},
   "outputs": [
    {
     "data": {
      "text/plain": [
       "{'Unnamed: 0': 0,\n",
       " 'region': 5,\n",
       " 'tenure': 0,\n",
       " 'age': 0,\n",
       " 'income': 8,\n",
       " 'marital': 5,\n",
       " 'address zone': 0,\n",
       " 'ed': 4,\n",
       " 'employ': 0,\n",
       " 'retire': 0,\n",
       " 'gender': 0,\n",
       " 'reside': 5}"
      ]
     },
     "execution_count": 31,
     "metadata": {},
     "output_type": "execute_result"
    }
   ],
   "source": [
    "dict(test.isna().sum())"
   ]
  },
  {
   "cell_type": "code",
   "execution_count": 32,
   "metadata": {},
   "outputs": [],
   "source": [
    "test=test.drop(columns=['Unnamed: 0'])"
   ]
  },
  {
   "cell_type": "code",
   "execution_count": 33,
   "metadata": {},
   "outputs": [],
   "source": [
    "test['region'] = test['region'].fillna(test['region'].median())"
   ]
  },
  {
   "cell_type": "code",
   "execution_count": 34,
   "metadata": {},
   "outputs": [],
   "source": [
    "test['income'] = test['income'].fillna(test['income'].median())"
   ]
  },
  {
   "cell_type": "code",
   "execution_count": 35,
   "metadata": {},
   "outputs": [],
   "source": [
    "test['marital']=test['marital'].replace('Unkown','Married')\n",
    "test['marital']=test['marital'].map({'Married':1,'Single':0})\n",
    "test['marital']=test['marital'].fillna(test['marital'].mode()[0])"
   ]
  },
  {
   "cell_type": "code",
   "execution_count": 36,
   "metadata": {},
   "outputs": [],
   "source": [
    "test['ed'] = test['ed'].fillna(test['ed'].median())"
   ]
  },
  {
   "cell_type": "code",
   "execution_count": 37,
   "metadata": {},
   "outputs": [],
   "source": [
    "test['reside'] = test['reside'].fillna(test['reside'].median())"
   ]
  },
  {
   "cell_type": "code",
   "execution_count": 38,
   "metadata": {},
   "outputs": [],
   "source": [
    "test['tenure']=test['tenure'].replace(999,test['tenure'].median())"
   ]
  },
  {
   "cell_type": "code",
   "execution_count": 39,
   "metadata": {},
   "outputs": [
    {
     "data": {
      "text/plain": [
       "{'region': 0,\n",
       " 'tenure': 0,\n",
       " 'age': 0,\n",
       " 'income': 0,\n",
       " 'marital': 0,\n",
       " 'address zone': 0,\n",
       " 'ed': 0,\n",
       " 'employ': 0,\n",
       " 'retire': 0,\n",
       " 'gender': 0,\n",
       " 'reside': 0}"
      ]
     },
     "execution_count": 39,
     "metadata": {},
     "output_type": "execute_result"
    }
   ],
   "source": [
    "dict(test.isna().sum())"
   ]
  },
  {
   "cell_type": "code",
   "execution_count": 40,
   "metadata": {},
   "outputs": [
    {
     "data": {
      "text/html": [
       "<div>\n",
       "<style scoped>\n",
       "    .dataframe tbody tr th:only-of-type {\n",
       "        vertical-align: middle;\n",
       "    }\n",
       "\n",
       "    .dataframe tbody tr th {\n",
       "        vertical-align: top;\n",
       "    }\n",
       "\n",
       "    .dataframe thead th {\n",
       "        text-align: right;\n",
       "    }\n",
       "</style>\n",
       "<table border=\"1\" class=\"dataframe\">\n",
       "  <thead>\n",
       "    <tr style=\"text-align: right;\">\n",
       "      <th></th>\n",
       "      <th>region</th>\n",
       "      <th>tenure</th>\n",
       "      <th>age</th>\n",
       "      <th>income</th>\n",
       "      <th>marital</th>\n",
       "      <th>address zone</th>\n",
       "      <th>ed</th>\n",
       "      <th>employ</th>\n",
       "      <th>retire</th>\n",
       "      <th>gender</th>\n",
       "      <th>reside</th>\n",
       "    </tr>\n",
       "  </thead>\n",
       "  <tbody>\n",
       "    <tr>\n",
       "      <th>15</th>\n",
       "      <td>3.0</td>\n",
       "      <td>31</td>\n",
       "      <td>37</td>\n",
       "      <td>18.0</td>\n",
       "      <td>1.0</td>\n",
       "      <td>Zone 15</td>\n",
       "      <td>4.0</td>\n",
       "      <td></td>\n",
       "      <td>0</td>\n",
       "      <td>Male</td>\n",
       "      <td>3.0</td>\n",
       "    </tr>\n",
       "    <tr>\n",
       "      <th>16</th>\n",
       "      <td>1.0</td>\n",
       "      <td>10</td>\n",
       "      <td>28</td>\n",
       "      <td>75.0</td>\n",
       "      <td>0.0</td>\n",
       "      <td>Zone 9</td>\n",
       "      <td>4.0</td>\n",
       "      <td></td>\n",
       "      <td>0</td>\n",
       "      <td>Male</td>\n",
       "      <td>1.0</td>\n",
       "    </tr>\n",
       "    <tr>\n",
       "      <th>18</th>\n",
       "      <td>2.0</td>\n",
       "      <td>16</td>\n",
       "      <td>22</td>\n",
       "      <td>26.0</td>\n",
       "      <td>0.0</td>\n",
       "      <td>Zone 0</td>\n",
       "      <td>3.0</td>\n",
       "      <td></td>\n",
       "      <td>0</td>\n",
       "      <td>Female</td>\n",
       "      <td>3.0</td>\n",
       "    </tr>\n",
       "  </tbody>\n",
       "</table>\n",
       "</div>"
      ],
      "text/plain": [
       "    region  tenure  age  income  marital address zone   ed employ  retire  \\\n",
       "15     3.0      31   37    18.0      1.0      Zone 15  4.0              0   \n",
       "16     1.0      10   28    75.0      0.0       Zone 9  4.0              0   \n",
       "18     2.0      16   22    26.0      0.0       Zone 0  3.0              0   \n",
       "\n",
       "    gender  reside  \n",
       "15    Male     3.0  \n",
       "16    Male     1.0  \n",
       "18  Female     3.0  "
      ]
     },
     "execution_count": 40,
     "metadata": {},
     "output_type": "execute_result"
    }
   ],
   "source": [
    "test[test['employ'] == ' ']"
   ]
  },
  {
   "cell_type": "code",
   "execution_count": 41,
   "metadata": {},
   "outputs": [],
   "source": [
    "test['employ'] = test['employ'].replace(' ' , test['employ'].mode()[0])"
   ]
  },
  {
   "cell_type": "code",
   "execution_count": 42,
   "metadata": {},
   "outputs": [],
   "source": [
    "test['employ']=test['employ'].astype(float)"
   ]
  },
  {
   "cell_type": "code",
   "execution_count": 43,
   "metadata": {},
   "outputs": [
    {
     "name": "stdout",
     "output_type": "stream",
     "text": [
      "<class 'pandas.core.frame.DataFrame'>\n",
      "RangeIndex: 200 entries, 0 to 199\n",
      "Data columns (total 11 columns):\n",
      " #   Column        Non-Null Count  Dtype  \n",
      "---  ------        --------------  -----  \n",
      " 0   region        200 non-null    float64\n",
      " 1   tenure        200 non-null    int64  \n",
      " 2   age           200 non-null    int64  \n",
      " 3   income        200 non-null    float64\n",
      " 4   marital       200 non-null    float64\n",
      " 5   address zone  200 non-null    object \n",
      " 6   ed            200 non-null    float64\n",
      " 7   employ        200 non-null    float64\n",
      " 8   retire        200 non-null    int64  \n",
      " 9   gender        200 non-null    object \n",
      " 10  reside        200 non-null    float64\n",
      "dtypes: float64(6), int64(3), object(2)\n",
      "memory usage: 17.3+ KB\n"
     ]
    }
   ],
   "source": [
    "test.info()"
   ]
  },
  {
   "cell_type": "code",
   "execution_count": 44,
   "metadata": {},
   "outputs": [],
   "source": [
    "test['gender']=test['gender'].map({'Male':1,'Female':0})"
   ]
  },
  {
   "cell_type": "code",
   "execution_count": 45,
   "metadata": {},
   "outputs": [],
   "source": [
    "reside=pd.get_dummies(test['reside'])\n",
    "reside.columns=['reside1','reside2','reside3','reside4','reside5','reside6','reside7']\n",
    "test=pd.concat([test,reside],axis=1)"
   ]
  },
  {
   "cell_type": "code",
   "execution_count": 46,
   "metadata": {},
   "outputs": [],
   "source": [
    "region=pd.get_dummies(test['region'])\n",
    "region.columns=['region1','region2','region3']\n",
    "test=pd.concat([test,region],axis=1)"
   ]
  },
  {
   "cell_type": "code",
   "execution_count": 47,
   "metadata": {},
   "outputs": [],
   "source": [
    "test=test.drop(['reside','region','reside1','region1','address zone'],axis=1)"
   ]
  },
  {
   "cell_type": "code",
   "execution_count": 48,
   "metadata": {},
   "outputs": [],
   "source": [
    "X2 = test.loc[:,['tenure', 'age', 'income', 'marital', 'ed', 'employ', 'retire',\n",
    "       'gender', 'reside2', 'reside3', 'reside4', 'reside5', 'reside6',\n",
    "       'reside7', 'region2', 'region3']]\n"
   ]
  },
  {
   "cell_type": "code",
   "execution_count": 49,
   "metadata": {},
   "outputs": [
    {
     "data": {
      "text/html": [
       "<div>\n",
       "<style scoped>\n",
       "    .dataframe tbody tr th:only-of-type {\n",
       "        vertical-align: middle;\n",
       "    }\n",
       "\n",
       "    .dataframe tbody tr th {\n",
       "        vertical-align: top;\n",
       "    }\n",
       "\n",
       "    .dataframe thead th {\n",
       "        text-align: right;\n",
       "    }\n",
       "</style>\n",
       "<table border=\"1\" class=\"dataframe\">\n",
       "  <thead>\n",
       "    <tr style=\"text-align: right;\">\n",
       "      <th></th>\n",
       "      <th>tenure</th>\n",
       "      <th>age</th>\n",
       "      <th>income</th>\n",
       "      <th>marital</th>\n",
       "      <th>ed</th>\n",
       "      <th>employ</th>\n",
       "      <th>retire</th>\n",
       "      <th>gender</th>\n",
       "      <th>reside2</th>\n",
       "      <th>reside3</th>\n",
       "      <th>reside4</th>\n",
       "      <th>reside5</th>\n",
       "      <th>reside6</th>\n",
       "      <th>reside7</th>\n",
       "      <th>region2</th>\n",
       "      <th>region3</th>\n",
       "    </tr>\n",
       "  </thead>\n",
       "  <tbody>\n",
       "    <tr>\n",
       "      <th>0</th>\n",
       "      <td>24</td>\n",
       "      <td>30</td>\n",
       "      <td>25.0</td>\n",
       "      <td>0.0</td>\n",
       "      <td>4.0</td>\n",
       "      <td>5.0</td>\n",
       "      <td>0</td>\n",
       "      <td>1</td>\n",
       "      <td>1</td>\n",
       "      <td>0</td>\n",
       "      <td>0</td>\n",
       "      <td>0</td>\n",
       "      <td>0</td>\n",
       "      <td>0</td>\n",
       "      <td>0</td>\n",
       "      <td>1</td>\n",
       "    </tr>\n",
       "    <tr>\n",
       "      <th>1</th>\n",
       "      <td>37</td>\n",
       "      <td>57</td>\n",
       "      <td>94.0</td>\n",
       "      <td>1.0</td>\n",
       "      <td>1.0</td>\n",
       "      <td>22.0</td>\n",
       "      <td>0</td>\n",
       "      <td>1</td>\n",
       "      <td>1</td>\n",
       "      <td>0</td>\n",
       "      <td>0</td>\n",
       "      <td>0</td>\n",
       "      <td>0</td>\n",
       "      <td>0</td>\n",
       "      <td>0</td>\n",
       "      <td>0</td>\n",
       "    </tr>\n",
       "    <tr>\n",
       "      <th>2</th>\n",
       "      <td>64</td>\n",
       "      <td>43</td>\n",
       "      <td>76.0</td>\n",
       "      <td>1.0</td>\n",
       "      <td>4.0</td>\n",
       "      <td>20.0</td>\n",
       "      <td>0</td>\n",
       "      <td>0</td>\n",
       "      <td>0</td>\n",
       "      <td>0</td>\n",
       "      <td>1</td>\n",
       "      <td>0</td>\n",
       "      <td>0</td>\n",
       "      <td>0</td>\n",
       "      <td>0</td>\n",
       "      <td>0</td>\n",
       "    </tr>\n",
       "    <tr>\n",
       "      <th>3</th>\n",
       "      <td>5</td>\n",
       "      <td>47</td>\n",
       "      <td>46.0</td>\n",
       "      <td>0.0</td>\n",
       "      <td>1.0</td>\n",
       "      <td>6.0</td>\n",
       "      <td>0</td>\n",
       "      <td>0</td>\n",
       "      <td>0</td>\n",
       "      <td>0</td>\n",
       "      <td>0</td>\n",
       "      <td>0</td>\n",
       "      <td>0</td>\n",
       "      <td>0</td>\n",
       "      <td>0</td>\n",
       "      <td>1</td>\n",
       "    </tr>\n",
       "    <tr>\n",
       "      <th>4</th>\n",
       "      <td>9</td>\n",
       "      <td>25</td>\n",
       "      <td>27.0</td>\n",
       "      <td>0.0</td>\n",
       "      <td>1.0</td>\n",
       "      <td>4.0</td>\n",
       "      <td>0</td>\n",
       "      <td>0</td>\n",
       "      <td>0</td>\n",
       "      <td>0</td>\n",
       "      <td>0</td>\n",
       "      <td>0</td>\n",
       "      <td>0</td>\n",
       "      <td>0</td>\n",
       "      <td>0</td>\n",
       "      <td>1</td>\n",
       "    </tr>\n",
       "    <tr>\n",
       "      <th>...</th>\n",
       "      <td>...</td>\n",
       "      <td>...</td>\n",
       "      <td>...</td>\n",
       "      <td>...</td>\n",
       "      <td>...</td>\n",
       "      <td>...</td>\n",
       "      <td>...</td>\n",
       "      <td>...</td>\n",
       "      <td>...</td>\n",
       "      <td>...</td>\n",
       "      <td>...</td>\n",
       "      <td>...</td>\n",
       "      <td>...</td>\n",
       "      <td>...</td>\n",
       "      <td>...</td>\n",
       "      <td>...</td>\n",
       "    </tr>\n",
       "    <tr>\n",
       "      <th>195</th>\n",
       "      <td>34</td>\n",
       "      <td>40</td>\n",
       "      <td>23.0</td>\n",
       "      <td>1.0</td>\n",
       "      <td>4.0</td>\n",
       "      <td>9.0</td>\n",
       "      <td>0</td>\n",
       "      <td>0</td>\n",
       "      <td>0</td>\n",
       "      <td>1</td>\n",
       "      <td>0</td>\n",
       "      <td>0</td>\n",
       "      <td>0</td>\n",
       "      <td>0</td>\n",
       "      <td>0</td>\n",
       "      <td>0</td>\n",
       "    </tr>\n",
       "    <tr>\n",
       "      <th>196</th>\n",
       "      <td>56</td>\n",
       "      <td>37</td>\n",
       "      <td>36.0</td>\n",
       "      <td>1.0</td>\n",
       "      <td>1.0</td>\n",
       "      <td>13.0</td>\n",
       "      <td>0</td>\n",
       "      <td>0</td>\n",
       "      <td>1</td>\n",
       "      <td>0</td>\n",
       "      <td>0</td>\n",
       "      <td>0</td>\n",
       "      <td>0</td>\n",
       "      <td>0</td>\n",
       "      <td>0</td>\n",
       "      <td>0</td>\n",
       "    </tr>\n",
       "    <tr>\n",
       "      <th>197</th>\n",
       "      <td>28</td>\n",
       "      <td>50</td>\n",
       "      <td>25.0</td>\n",
       "      <td>1.0</td>\n",
       "      <td>1.0</td>\n",
       "      <td>3.0</td>\n",
       "      <td>0</td>\n",
       "      <td>1</td>\n",
       "      <td>1</td>\n",
       "      <td>0</td>\n",
       "      <td>0</td>\n",
       "      <td>0</td>\n",
       "      <td>0</td>\n",
       "      <td>0</td>\n",
       "      <td>0</td>\n",
       "      <td>1</td>\n",
       "    </tr>\n",
       "    <tr>\n",
       "      <th>198</th>\n",
       "      <td>20</td>\n",
       "      <td>41</td>\n",
       "      <td>58.0</td>\n",
       "      <td>1.0</td>\n",
       "      <td>2.0</td>\n",
       "      <td>6.0</td>\n",
       "      <td>0</td>\n",
       "      <td>0</td>\n",
       "      <td>1</td>\n",
       "      <td>0</td>\n",
       "      <td>0</td>\n",
       "      <td>0</td>\n",
       "      <td>0</td>\n",
       "      <td>0</td>\n",
       "      <td>0</td>\n",
       "      <td>1</td>\n",
       "    </tr>\n",
       "    <tr>\n",
       "      <th>199</th>\n",
       "      <td>22</td>\n",
       "      <td>39</td>\n",
       "      <td>44.0</td>\n",
       "      <td>0.0</td>\n",
       "      <td>4.0</td>\n",
       "      <td>9.0</td>\n",
       "      <td>0</td>\n",
       "      <td>1</td>\n",
       "      <td>0</td>\n",
       "      <td>0</td>\n",
       "      <td>0</td>\n",
       "      <td>0</td>\n",
       "      <td>0</td>\n",
       "      <td>0</td>\n",
       "      <td>1</td>\n",
       "      <td>0</td>\n",
       "    </tr>\n",
       "  </tbody>\n",
       "</table>\n",
       "<p>200 rows × 16 columns</p>\n",
       "</div>"
      ],
      "text/plain": [
       "     tenure  age  income  marital   ed  employ  retire  gender  reside2  \\\n",
       "0        24   30    25.0      0.0  4.0     5.0       0       1        1   \n",
       "1        37   57    94.0      1.0  1.0    22.0       0       1        1   \n",
       "2        64   43    76.0      1.0  4.0    20.0       0       0        0   \n",
       "3         5   47    46.0      0.0  1.0     6.0       0       0        0   \n",
       "4         9   25    27.0      0.0  1.0     4.0       0       0        0   \n",
       "..      ...  ...     ...      ...  ...     ...     ...     ...      ...   \n",
       "195      34   40    23.0      1.0  4.0     9.0       0       0        0   \n",
       "196      56   37    36.0      1.0  1.0    13.0       0       0        1   \n",
       "197      28   50    25.0      1.0  1.0     3.0       0       1        1   \n",
       "198      20   41    58.0      1.0  2.0     6.0       0       0        1   \n",
       "199      22   39    44.0      0.0  4.0     9.0       0       1        0   \n",
       "\n",
       "     reside3  reside4  reside5  reside6  reside7  region2  region3  \n",
       "0          0        0        0        0        0        0        1  \n",
       "1          0        0        0        0        0        0        0  \n",
       "2          0        1        0        0        0        0        0  \n",
       "3          0        0        0        0        0        0        1  \n",
       "4          0        0        0        0        0        0        1  \n",
       "..       ...      ...      ...      ...      ...      ...      ...  \n",
       "195        1        0        0        0        0        0        0  \n",
       "196        0        0        0        0        0        0        0  \n",
       "197        0        0        0        0        0        0        1  \n",
       "198        0        0        0        0        0        0        1  \n",
       "199        0        0        0        0        0        1        0  \n",
       "\n",
       "[200 rows x 16 columns]"
      ]
     },
     "execution_count": 49,
     "metadata": {},
     "output_type": "execute_result"
    }
   ],
   "source": [
    "X2"
   ]
  },
  {
   "cell_type": "code",
   "execution_count": 50,
   "metadata": {},
   "outputs": [],
   "source": [
    "from sklearn.preprocessing import MinMaxScaler\n",
    "sc = MinMaxScaler()\n",
    "X_train2 = sc.fit_transform(X2)"
   ]
  },
  {
   "cell_type": "markdown",
   "metadata": {},
   "source": [
    "# Machine learning models "
   ]
  },
  {
   "cell_type": "code",
   "execution_count": 51,
   "metadata": {},
   "outputs": [],
   "source": [
    "from sklearn.model_selection import train_test_split\n",
    "from sklearn.preprocessing import MinMaxScaler\n",
    "\n",
    "X_train_org, X_test_org, y_train, y_test = train_test_split(X,y)\n",
    "\n",
    "sc = MinMaxScaler()\n",
    "X_train = sc.fit_transform(X_train_org)\n",
    "X_test = sc.transform(X_test_org) "
   ]
  },
  {
   "cell_type": "markdown",
   "metadata": {},
   "source": [
    "### KNN"
   ]
  },
  {
   "cell_type": "code",
   "execution_count": 52,
   "metadata": {},
   "outputs": [
    {
     "data": {
      "text/plain": [
       "Text(0, 0.5, 'MSE')"
      ]
     },
     "execution_count": 52,
     "metadata": {},
     "output_type": "execute_result"
    },
    {
     "data": {
      "image/png": "[encoded data removed]",
      "text/plain": [
       "<Figure size 1440x360 with 1 Axes>"
      ]
     },
     "metadata": {
      "needs_background": "light"
     },
     "output_type": "display_data"
    }
   ],
   "source": [
    "from sklearn.neighbors import KNeighborsClassifier\n",
    "train_score_array = []\n",
    "test_score_array = []\n",
    "\n",
    "for k in range(1,10):\n",
    "    knn = KNeighborsClassifier(k)\n",
    "    knn.fit(X_train, y_train)\n",
    "    train_score_array.append(knn.score(X_train, y_train))\n",
    "    test_score_array.append(knn.score(X_test, y_test))\n",
    "    \n",
    "x_axis = range(1,10)\n",
    "plt.subplots(figsize = (20,5))\n",
    "plt.plot(x_axis, train_score_array, c = 'g', label = 'Train Score')\n",
    "plt.plot(x_axis, test_score_array, c = 'b', label = 'Test Score')\n",
    "plt.legend()\n",
    "plt.xlabel('n_neighbors')\n",
    "plt.ylabel('MSE')\n"
   ]
  },
  {
   "cell_type": "code",
   "execution_count": 53,
   "metadata": {},
   "outputs": [
    {
     "name": "stdout",
     "output_type": "stream",
     "text": [
      "KNN: Best Parameters {'n_neighbors': 4}\n",
      "0.295\n"
     ]
    }
   ],
   "source": [
    "from sklearn.model_selection import GridSearchCV\n",
    "tuned_parameters = [{'n_neighbors':[1,2,3,4,5,6,7,8,9,10,11,12,13,14,15]}]\n",
    "\n",
    "model_knn = GridSearchCV(KNeighborsClassifier(), tuned_parameters, cv=3, n_jobs=-1,return_train_score=True)\n",
    "model_knn.fit(X_train, y_train)\n",
    "\n",
    "\n",
    "print('KNN: Best Parameters',model_knn.best_params_)\n",
    "\n",
    "\n",
    "y_pred_knn = model_knn.predict(X_test)\n",
    "print(model_knn.score(X_test,y_test))"
   ]
  },
  {
   "cell_type": "code",
   "execution_count": 54,
   "metadata": {},
   "outputs": [
    {
     "name": "stdout",
     "output_type": "stream",
     "text": [
      "1.0\n",
      "0.29\n"
     ]
    }
   ],
   "source": [
    "knn = KNeighborsClassifier(1)\n",
    "knn.fit(X_train, y_train)\n",
    "print(knn.score(X_train,y_train))\n",
    "print(knn.score(X_test,y_test))"
   ]
  },
  {
   "cell_type": "code",
   "execution_count": 55,
   "metadata": {},
   "outputs": [
    {
     "name": "stdout",
     "output_type": "stream",
     "text": [
      "              precision    recall  f1-score   support\n",
      "\n",
      "           A       0.33      0.47      0.39        60\n",
      "           B       0.08      0.08      0.08        37\n",
      "           C       0.40      0.38      0.39        56\n",
      "           D       0.26      0.15      0.19        47\n",
      "\n",
      "    accuracy                           0.29       200\n",
      "   macro avg       0.27      0.27      0.26       200\n",
      "weighted avg       0.29      0.29      0.28       200\n",
      "\n"
     ]
    }
   ],
   "source": [
    "from sklearn.metrics import classification_report\n",
    "print(classification_report(y_test, y_pred_knn, target_names=[\"A\",\"B\",\"C\",\"D\"]))"
   ]
  },
  {
   "cell_type": "markdown",
   "metadata": {},
   "source": [
    "### Decision Tree Classifier"
   ]
  },
  {
   "cell_type": "code",
   "execution_count": 56,
   "metadata": {},
   "outputs": [],
   "source": [
    "from sklearn.tree import DecisionTreeClassifier"
   ]
  },
  {
   "cell_type": "code",
   "execution_count": 57,
   "metadata": {},
   "outputs": [
    {
     "name": "stdout",
     "output_type": "stream",
     "text": [
      "Decision: Best Parameters {'max_depth': 2}\n",
      "0.38\n"
     ]
    }
   ],
   "source": [
    "from sklearn.model_selection import GridSearchCV\n",
    "tree = DecisionTreeClassifier()\n",
    "param = { 'max_depth':[1,2,3,4,5,6,7,8,9,10]}\n",
    "dtree = GridSearchCV(tree,param,cv=5, return_train_score=True)\n",
    "dtree.fit(X_train,y_train)\n",
    "\n",
    "print('Decision: Best Parameters',dtree.best_params_)\n",
    "\n",
    "\n",
    "pred_dt = dtree.predict(X_test)\n",
    "print(dtree.score(X_test,y_test))"
   ]
  },
  {
   "cell_type": "code",
   "execution_count": 58,
   "metadata": {},
   "outputs": [
    {
     "name": "stdout",
     "output_type": "stream",
     "text": [
      "0.43666666666666665\n",
      "0.42\n"
     ]
    }
   ],
   "source": [
    "tree= DecisionTreeClassifier(max_depth=3).fit(X_train, y_train)\n",
    "pred_tree=tree.predict(X_test)\n",
    "print(tree.score(X_train,y_train))\n",
    "print(tree.score(X_test,y_test))"
   ]
  },
  {
   "cell_type": "code",
   "execution_count": 59,
   "metadata": {},
   "outputs": [
    {
     "name": "stdout",
     "output_type": "stream",
     "text": [
      "              precision    recall  f1-score   support\n",
      "\n",
      "           A       0.41      0.58      0.48        60\n",
      "           B       0.21      0.14      0.16        37\n",
      "           C       0.39      0.38      0.38        56\n",
      "           D       0.41      0.32      0.36        47\n",
      "\n",
      "    accuracy                           0.38       200\n",
      "   macro avg       0.35      0.35      0.35       200\n",
      "weighted avg       0.37      0.38      0.37       200\n",
      "\n"
     ]
    }
   ],
   "source": [
    "from sklearn.metrics import classification_report\n",
    "print(classification_report(y_test, pred_dt, target_names=[\"A\",\"B\",\"C\",\"D\"]))"
   ]
  },
  {
   "cell_type": "markdown",
   "metadata": {},
   "source": [
    "### Logistic Regression"
   ]
  },
  {
   "cell_type": "code",
   "execution_count": 60,
   "metadata": {},
   "outputs": [],
   "source": [
    "from sklearn.linear_model import LogisticRegression\n",
    "\n",
    "c_range = [0.001, 0.01, 0.1, 1, 10, 100, 1000]\n",
    "train_score_l1 = []\n",
    "train_score_l2 = []\n",
    "test_score_l1 = []\n",
    "test_score_l2 = []\n",
    "\n",
    "for c in c_range:\n",
    "    log_l1 = LogisticRegression(penalty = 'l1', C = c, solver = 'liblinear', max_iter = 500)\n",
    "    log_l2 = LogisticRegression(penalty = 'l2', C = c, solver = 'lbfgs', max_iter = 500)\n",
    "    log_l1.fit(X_train, y_train)\n",
    "    log_l2.fit(X_train, y_train)\n",
    "    train_score_l1.append(log_l1.score(X_train, y_train))\n",
    "    train_score_l2.append(log_l2.score(X_train, y_train))\n",
    "    test_score_l1.append(log_l1.score(X_test, y_test))\n",
    "    test_score_l2.append(log_l2.score(X_test, y_test))"
   ]
  },
  {
   "cell_type": "code",
   "execution_count": 61,
   "metadata": {},
   "outputs": [
    {
     "name": "stdout",
     "output_type": "stream",
     "text": [
      "Logistic: Best Parameters {'C': 10, 'penalty': 'l2'}\n",
      "0.37\n"
     ]
    }
   ],
   "source": [
    "from sklearn.model_selection import GridSearchCV\n",
    "logit = LogisticRegression()\n",
    "param = { 'C':[0.001, 0.01, 0.1, 1, 10, 100, 1000], 'penalty': ['l1','l2']}\n",
    "logistic = GridSearchCV(logit,param,cv=5, return_train_score=True)\n",
    "logistic.fit(X_train,y_train)\n",
    "\n",
    "print('Logistic: Best Parameters',logistic.best_params_)\n",
    "\n",
    "\n",
    "pred_log = logistic.predict(X_test)\n",
    "print(logistic.score(X_test,y_test))"
   ]
  },
  {
   "cell_type": "code",
   "execution_count": 62,
   "metadata": {},
   "outputs": [
    {
     "name": "stdout",
     "output_type": "stream",
     "text": [
      "0.44166666666666665\n",
      "0.37\n"
     ]
    }
   ],
   "source": [
    "log=LogisticRegression(C=1000, penalty='l2')\n",
    "log.fit(X_train,y_train)\n",
    "print(log.score(X_train,y_train))\n",
    "print(log.score(X_test,y_test))"
   ]
  },
  {
   "cell_type": "code",
   "execution_count": 63,
   "metadata": {},
   "outputs": [
    {
     "name": "stdout",
     "output_type": "stream",
     "text": [
      "              precision    recall  f1-score   support\n",
      "\n",
      "           A       0.47      0.48      0.48        60\n",
      "           B       0.21      0.19      0.20        37\n",
      "           C       0.38      0.39      0.39        56\n",
      "           D       0.34      0.34      0.34        47\n",
      "\n",
      "    accuracy                           0.37       200\n",
      "   macro avg       0.35      0.35      0.35       200\n",
      "weighted avg       0.37      0.37      0.37       200\n",
      "\n"
     ]
    }
   ],
   "source": [
    "from sklearn.metrics import classification_report\n",
    "print(classification_report(y_test, pred_log, target_names=[\"A\",\"B\",\"C\",\"D\"]))"
   ]
  },
  {
   "cell_type": "markdown",
   "metadata": {},
   "source": [
    "### Bagging"
   ]
  },
  {
   "cell_type": "code",
   "execution_count": 64,
   "metadata": {},
   "outputs": [],
   "source": [
    "from sklearn.ensemble import BaggingClassifier\n",
    "lr_clf = LogisticRegression(random_state=0)\n",
    "bag_clf = BaggingClassifier(lr_clf, n_estimators=500, max_samples=100, bootstrap=True, n_jobs=-1, random_state=0)\n",
    "\n",
    "bag_clf.fit(X_train, y_train)\n",
    "y_pred = bag_clf.predict(X_test)"
   ]
  },
  {
   "cell_type": "code",
   "execution_count": 65,
   "metadata": {},
   "outputs": [
    {
     "name": "stdout",
     "output_type": "stream",
     "text": [
      "Train score: 0.42\n",
      "Test score: 0.38\n"
     ]
    }
   ],
   "source": [
    "from  sklearn.metrics import accuracy_score\n",
    "bag_clf.fit(X_train, y_train)\n",
    "print('Train score: {:.2f}'.format(bag_clf.score(X_train, y_train)))\n",
    "print('Test score: {:.2f}'.format(bag_clf.score(X_test, y_test)))\n",
    "lr_clf = LogisticRegression(random_state=0)\n",
    "lr_clf.fit(X_train, y_train)\n",
    "y_pred_tree = lr_clf.predict(X_test)\n",
    "\n"
   ]
  },
  {
   "cell_type": "code",
   "execution_count": 66,
   "metadata": {},
   "outputs": [
    {
     "name": "stdout",
     "output_type": "stream",
     "text": [
      "              precision    recall  f1-score   support\n",
      "\n",
      "           A       0.42      0.48      0.45        60\n",
      "           B       0.22      0.14      0.17        37\n",
      "           C       0.37      0.45      0.40        56\n",
      "           D       0.40      0.34      0.37        47\n",
      "\n",
      "    accuracy                           0.38       200\n",
      "   macro avg       0.35      0.35      0.35       200\n",
      "weighted avg       0.36      0.38      0.37       200\n",
      "\n"
     ]
    }
   ],
   "source": [
    "from sklearn.metrics import classification_report\n",
    "print(classification_report(y_test, y_pred, target_names=[\"A\",\"B\",\"C\",\"D\"]))"
   ]
  },
  {
   "cell_type": "markdown",
   "metadata": {},
   "source": [
    "### Adaboost Boosting"
   ]
  },
  {
   "cell_type": "code",
   "execution_count": 67,
   "metadata": {},
   "outputs": [],
   "source": [
    "from sklearn.ensemble import AdaBoostClassifier"
   ]
  },
  {
   "cell_type": "code",
   "execution_count": 68,
   "metadata": {},
   "outputs": [
    {
     "name": "stdout",
     "output_type": "stream",
     "text": [
      "Train score: 0.41\n",
      "Test score: 0.37\n"
     ]
    }
   ],
   "source": [
    "ada_clf = AdaBoostClassifier(base_estimator=LogisticRegression(), n_estimators=200, algorithm=\"SAMME.R\", learning_rate=0.5, random_state=0)\n",
    "ada_clf.fit(X_train, y_train)\n",
    "print('Train score: {:.2f}'.format(ada_clf.score(X_train, y_train)))\n",
    "print('Test score: {:.2f}'.format(ada_clf.score(X_test, y_test)))"
   ]
  },
  {
   "cell_type": "code",
   "execution_count": 69,
   "metadata": {},
   "outputs": [
    {
     "name": "stdout",
     "output_type": "stream",
     "text": [
      "              precision    recall  f1-score   support\n",
      "\n",
      "           A       0.45      0.48      0.47        60\n",
      "           B       0.15      0.11      0.13        37\n",
      "           C       0.37      0.41      0.39        56\n",
      "           D       0.38      0.38      0.38        47\n",
      "\n",
      "    accuracy                           0.37       200\n",
      "   macro avg       0.34      0.35      0.34       200\n",
      "weighted avg       0.36      0.37      0.36       200\n",
      "\n"
     ]
    }
   ],
   "source": [
    "from sklearn.metrics import classification_report\n",
    "print(classification_report(y_test, ada_clf.predict(X_test), target_names=[\"A\",\"B\",\"C\",\"D\"]))"
   ]
  },
  {
   "cell_type": "markdown",
   "metadata": {},
   "source": [
    "### Linear SVC "
   ]
  },
  {
   "cell_type": "code",
   "execution_count": 70,
   "metadata": {},
   "outputs": [
    {
     "name": "stdout",
     "output_type": "stream",
     "text": [
      "LinearSCV: Best Parameters {'C': 0.1}\n",
      "0.375\n"
     ]
    }
   ],
   "source": [
    "from sklearn.svm import LinearSVC\n",
    "linsvc = LinearSVC()\n",
    "param = { 'C':[0.001,0.01,0.1,1,10,100,100]}\n",
    "linear_svc= GridSearchCV(linsvc,param,cv=5, return_train_score=True)\n",
    "linear_svc.fit(X_train,y_train)\n",
    "\n",
    "print('LinearSCV: Best Parameters',linear_svc.best_params_)\n",
    "\n",
    "\n",
    "pred_svc = linear_svc.predict(X_test)\n",
    "print(linear_svc.score(X_test,y_test))"
   ]
  },
  {
   "cell_type": "code",
   "execution_count": 71,
   "metadata": {},
   "outputs": [
    {
     "name": "stdout",
     "output_type": "stream",
     "text": [
      "0.43833333333333335\n",
      "0.375\n"
     ]
    }
   ],
   "source": [
    "svc=LinearSVC(C=0.1)\n",
    "svc.fit(X_train,y_train)\n",
    "print(svc.score(X_train,y_train))\n",
    "print(svc.score(X_test,y_test))"
   ]
  },
  {
   "cell_type": "code",
   "execution_count": 72,
   "metadata": {},
   "outputs": [
    {
     "name": "stdout",
     "output_type": "stream",
     "text": [
      "              precision    recall  f1-score   support\n",
      "\n",
      "           A       0.47      0.50      0.48        60\n",
      "           B       0.19      0.14      0.16        37\n",
      "           C       0.35      0.39      0.37        56\n",
      "           D       0.38      0.38      0.38        47\n",
      "\n",
      "    accuracy                           0.38       200\n",
      "   macro avg       0.35      0.35      0.35       200\n",
      "weighted avg       0.36      0.38      0.37       200\n",
      "\n"
     ]
    }
   ],
   "source": [
    "from sklearn.metrics import classification_report\n",
    "print(classification_report(y_test, svc.predict(X_test), target_names=[\"A\",\"B\",\"C\",\"D\"]))"
   ]
  },
  {
   "cell_type": "markdown",
   "metadata": {},
   "source": [
    "# SVC with Kernel"
   ]
  },
  {
   "cell_type": "code",
   "execution_count": 73,
   "metadata": {},
   "outputs": [
    {
     "name": "stdout",
     "output_type": "stream",
     "text": [
      "{'C': 1, 'gamma': 0.1}\n"
     ]
    }
   ],
   "source": [
    "KSVC_clf = svm.SVC(kernel='rbf', random_state=0)\n",
    "\n",
    "param_grid = {'C': [0.0001,0.001,0.01,0.1,1,10],\n",
    "          'gamma': [0.0001,0.001,0.1,1,10]}\n",
    "\n",
    "grid_search = GridSearchCV(KSVC_clf, param_grid, cv=5, scoring= 'precision_macro', return_train_score=True, iid=False)\n",
    "grid_search.fit(X_train, y_train)\n",
    "\n",
    "print(grid_search.best_params_)"
   ]
  },
  {
   "cell_type": "code",
   "execution_count": 74,
   "metadata": {},
   "outputs": [
    {
     "name": "stdout",
     "output_type": "stream",
     "text": [
      "Train Precision score: 0.907001832672566\n",
      "Test Precision score: 0.2902336028751123\n",
      "[[16  5 31  8]\n",
      " [ 5  6 22  4]\n",
      " [12  5 32  7]\n",
      " [15  5 21  6]]\n",
      "Cross-validation scores: [0.29166667 0.39166667 0.375      0.43333333 0.33333333]\n",
      "Cross-validation scores: [0.4  0.35 0.45 0.3  0.45]\n",
      "Average Train score: 0.365\n",
      "Average Test score: 0.39\n",
      "              precision    recall  f1-score   support\n",
      "\n",
      "           0       0.44      0.50      0.47        60\n",
      "           1       0.25      0.22      0.23        37\n",
      "           2       0.40      0.45      0.42        56\n",
      "           3       0.46      0.36      0.40        47\n",
      "\n",
      "    accuracy                           0.40       200\n",
      "   macro avg       0.39      0.38      0.38       200\n",
      "weighted avg       0.40      0.40      0.40       200\n",
      "\n"
     ]
    }
   ],
   "source": [
    "KSVC_clf = svm.SVC(kernel='rbf', C=1, gamma=10, probability=True)\n",
    "KSVC_clf.fit(X_train, y_train)\n",
    "\n",
    "y_pred_train = KSVC_clf.predict(X_train)\n",
    "y_pred_test = KSVC_clf.predict(X_test)\n",
    "\n",
    "KSVC_train_precision_score = precision_score(y_train, y_pred_train, average='macro')\n",
    "KSVC_test_precision_score = precision_score(y_test, y_pred_test, average='macro')\n",
    "\n",
    "print('Train Precision score:', KSVC_train_precision_score)\n",
    "print('Test Precision score:', KSVC_test_precision_score)\n",
    "print(confusion_matrix(y_test, y_pred_test))\n",
    "\n",
    "KSVC_clf = svm.SVC(kernel='rbf', C=10, gamma=0.1, probability=True)\n",
    "KSVC_clf.fit(X_train, y_train)\n",
    "train_score = cross_val_score(KSVC_clf, X_train, y_train)\n",
    "test_score = cross_val_score(KSVC_clf, X_test, y_test)\n",
    "print('Cross-validation scores:', train_score)\n",
    "print('Cross-validation scores:', test_score)\n",
    "print('Average Train score:', train_score.mean())\n",
    "print('Average Test score:', test_score.mean())\n",
    "\n",
    "y_pred = KSVC_clf.predict(X_test)\n",
    "print(classification_report(y_test, y_pred))"
   ]
  },
  {
   "cell_type": "markdown",
   "metadata": {},
   "source": [
    "# Bagging with Decision Tree"
   ]
  },
  {
   "cell_type": "code",
   "execution_count": 75,
   "metadata": {},
   "outputs": [
    {
     "name": "stdout",
     "output_type": "stream",
     "text": [
      "Accuracy score: 0.415\n",
      "Train score: 0.4666666666666667\n",
      "Test score: 0.415\n",
      "              precision    recall  f1-score   support\n",
      "\n",
      "           0       0.45      0.43      0.44        60\n",
      "           1       0.26      0.14      0.18        37\n",
      "           2       0.38      0.48      0.43        56\n",
      "           3       0.48      0.53      0.51        47\n",
      "\n",
      "    accuracy                           0.41       200\n",
      "   macro avg       0.39      0.40      0.39       200\n",
      "weighted avg       0.40      0.41      0.40       200\n",
      "\n"
     ]
    }
   ],
   "source": [
    "dt_clf = DecisionTreeClassifier(max_depth=3)\n",
    "bag_clf = BaggingClassifier(dt_clf, n_estimators=500, max_samples=100, bootstrap=False, n_jobs=-1, random_state=0)\n",
    "\n",
    "bag_clf.fit(X_train, y_train)\n",
    "y_pred = bag_clf.predict(X_test)\n",
    "print('Accuracy score:', accuracy_score(y_test, y_pred))\n",
    "bag_clf.fit(X_train, y_train)\n",
    "print('Train score:', bag_clf.score(X_train, y_train))\n",
    "print('Test score:', bag_clf.score(X_test, y_test))\n",
    "\n",
    "y_pred = bag_clf.predict(X_test)\n",
    "print(classification_report(y_test, y_pred))"
   ]
  },
  {
   "cell_type": "code",
   "execution_count": 76,
   "metadata": {},
   "outputs": [
    {
     "name": "stdout",
     "output_type": "stream",
     "text": [
      "Accuracy on training set: 0.5083333333333333\n",
      "Accuracy on test set: 0.425\n",
      "              precision    recall  f1-score   support\n",
      "\n",
      "           0       0.45      0.50      0.47        60\n",
      "           1       0.44      0.22      0.29        37\n",
      "           2       0.33      0.39      0.36        56\n",
      "           3       0.51      0.53      0.52        47\n",
      "\n",
      "    accuracy                           0.42       200\n",
      "   macro avg       0.43      0.41      0.41       200\n",
      "weighted avg       0.43      0.42      0.42       200\n",
      "\n"
     ]
    }
   ],
   "source": [
    "gbrt = GradientBoostingClassifier(random_state=0, learning_rate=0.01)\n",
    "gbrt.fit(X_train, y_train)\n",
    "\n",
    "print(\"Accuracy on training set:\", gbrt.score(X_train, y_train))\n",
    "print(\"Accuracy on test set:\", gbrt.score(X_test, y_test))\n",
    "\n",
    "y_pred = gbrt.predict(X_test)\n",
    "print(classification_report(y_test, y_pred))"
   ]
  },
  {
   "cell_type": "markdown",
   "metadata": {},
   "source": [
    "# Best model\n",
    "Explain which machine learning model is the best model for this dataset and why? "
   ]
  },
  {
   "cell_type": "code",
   "execution_count": 77,
   "metadata": {},
   "outputs": [],
   "source": [
    "# After running different Machine Learning Models, Bagging with Decision Tree gave us the highest precision. "
   ]
  },
  {
   "cell_type": "code",
   "execution_count": 78,
   "metadata": {},
   "outputs": [],
   "source": [
    "final_test_pred=bag_clf.predict(X_train2)"
   ]
  },
  {
   "cell_type": "code",
   "execution_count": 79,
   "metadata": {},
   "outputs": [],
   "source": [
    "final_test_pred=pd.Series(final_test_pred).replace({0:'A',1:'B',2:'C',3:'D'})"
   ]
  },
  {
   "cell_type": "code",
   "execution_count": 80,
   "metadata": {},
   "outputs": [],
   "source": [
    "final_test_prediction=np.array(final_test_pred)"
   ]
  },
  {
   "cell_type": "markdown",
   "metadata": {},
   "source": [
    "# Grading \n",
    "You should be able to correctly print the final prediction executing the following statement: "
   ]
  },
  {
   "cell_type": "code",
   "execution_count": 81,
   "metadata": {},
   "outputs": [
    {
     "data": {
      "text/plain": [
       "array(['D', 'C', 'D', 'A', 'A', 'D', 'A', 'A', 'A', 'C', 'C', 'C', 'C',\n",
       "       'D', 'A', 'D', 'D', 'C', 'A', 'C', 'C', 'C', 'A', 'D', 'C', 'C',\n",
       "       'A', 'D', 'C', 'C', 'C', 'A', 'D', 'C', 'A', 'D', 'D', 'C', 'C',\n",
       "       'C', 'C', 'A', 'B', 'A', 'A', 'C', 'A', 'A', 'C', 'D', 'C', 'D',\n",
       "       'D', 'D', 'C', 'A', 'D', 'C', 'C', 'D', 'A', 'B', 'D', 'C', 'C',\n",
       "       'A', 'D', 'D', 'A', 'A', 'A', 'A', 'A', 'D', 'A', 'D', 'D', 'A',\n",
       "       'D', 'C', 'D', 'D', 'C', 'A', 'D', 'C', 'D', 'C', 'D', 'C', 'A',\n",
       "       'C', 'C', 'C', 'C', 'A', 'C', 'A', 'D', 'D', 'A', 'A', 'C', 'C',\n",
       "       'C', 'C', 'D', 'C', 'D', 'D', 'C', 'D', 'D', 'A', 'C', 'D', 'C',\n",
       "       'C', 'D', 'C', 'C', 'C', 'C', 'A', 'A', 'D', 'C', 'D', 'D', 'A',\n",
       "       'A', 'A', 'D', 'C', 'C', 'A', 'D', 'A', 'C', 'C', 'C', 'D', 'A',\n",
       "       'C', 'D', 'D', 'A', 'C', 'A', 'C', 'C', 'C', 'C', 'C', 'C', 'D',\n",
       "       'A', 'C', 'C', 'C', 'A', 'C', 'C', 'C', 'D', 'C', 'D', 'C', 'D',\n",
       "       'C', 'D', 'D', 'D', 'C', 'C', 'C', 'A', 'C', 'C', 'A', 'C', 'D',\n",
       "       'A', 'C', 'D', 'C', 'C', 'A', 'C', 'C', 'D', 'A', 'D', 'D', 'C',\n",
       "       'D', 'C', 'C', 'C', 'D'], dtype=object)"
      ]
     },
     "execution_count": 81,
     "metadata": {},
     "output_type": "execute_result"
    }
   ],
   "source": [
    "final_test_prediction"
   ]
  },
  {
   "cell_type": "code",
   "execution_count": null,
   "metadata": {},
   "outputs": [],
   "source": []
  }
 ],
 "metadata": {
  "kernelspec": {
   "display_name": "Python 3",
   "language": "python",
   "name": "python3"
  },
  "language_info": {
   "codemirror_mode": {
    "name": "ipython",
    "version": 3
   },
   "file_extension": ".py",
   "mimetype": "text/x-python",
   "name": "python",
   "nbconvert_exporter": "python",
   "pygments_lexer": "ipython3",
   "version": "3.7.6"
  }
 },
 "nbformat": 4,
 "nbformat_minor": 2
}
